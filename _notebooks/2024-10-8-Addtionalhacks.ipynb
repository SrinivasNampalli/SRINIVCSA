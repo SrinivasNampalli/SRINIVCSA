{
 "cells": [
  {
   "cell_type": "markdown",
   "metadata": {},
   "source": [
    "---\n",
    "layout: post\n",
    "title: Student Grade Anaylsis\n",
    "type: ccc \n",
    "toc: false\n",
    "courses: {csa: {week: 7}}\n",
    "---"
   ]
  },
  {
   "cell_type": "code",
   "execution_count": null,
   "metadata": {
    "vscode": {
     "languageId": "java"
    }
   },
   "outputs": [],
   "source": [
    "import java.util.ArrayList;  // Unit 7 (ArrayList): For storing student grades dynamically\n",
    "import java.util.Collections;  // Unit 5 (Writing Classes): For sorting and median calculation\n",
    "import java.util.HashMap;  // Unit 7 (ArrayList): Using HashMap to find the mode\n",
    "import java.util.Map;  // Unit 7 (ArrayList): To store and retrieve mode data\n",
    "import java.util.Scanner;  // Unit 2 (Using Objects): For user input\n",
    "\n",
    "public class StudentGradeAnalysis {\n",
    "    // Unit 7 (ArrayList): ArrayList to store student grades\n",
    "    private ArrayList<Integer> grades;\n",
    "\n",
    "    public StudentGradeAnalysis() {\n",
    "        grades = new ArrayList<>();  // Unit 7 (ArrayList): Initializing ArrayList\n",
    "    }\n",
    "\n",
    "    // Unit 2 (Using Objects): Method to get user input and add grades to the list\n",
    "    public void addGrades() {\n",
    "        Scanner input = new Scanner(System.in);\n",
    "        boolean done = false;\n",
    "\n",
    "        while (!done) {  // Unit 4 (Iteration): While loop to allow multiple inputs\n",
    "            System.out.print(\"Enter a grade (or -1 to finish): \");\n",
    "            int grade = input.nextInt();\n",
    "\n",
    "            // Unit 3 (Boolean Expressions): If statement to stop loop on sentinel value\n",
    "            if (grade == -1) {\n",
    "                done = true;\n",
    "            } else if (grade < 0 || grade > 100) {\n",
    "                System.out.println(\"Invalid grade. Please enter a value between 0 and 100.\");\n",
    "            } else {\n",
    "                grades.add(grade);  // Unit 7 (ArrayList): Adding valid grade to the list\n",
    "            }\n",
    "        }\n",
    "    }\n",
    "\n",
    "    // Unit 10 (Recursion): Method to calculate the average grade recursively\n",
    "    public double calculateAverage(int index) {\n",
    "        if (index == grades.size()) return 0;\n",
    "        return (double) grades.get(index) / grades.size() + calculateAverage(index + 1);\n",
    "    }\n",
    "\n",
    "    // Unit 4 (Iteration): Method to calculate the median grade\n",
    "    public double calculateMedian() {\n",
    "        Collections.sort(grades);  // Sorting the grades for median calculation\n",
    "        int n = grades.size();\n",
    "        if (n % 2 == 1) {\n",
    "            return grades.get(n / 2);  // If odd, return middle element\n",
    "        } else {\n",
    "            return (grades.get(n / 2 - 1) + grades.get(n / 2)) / 2.0;  // If even, average two middle elements\n",
    "        }\n",
    "    }"
   ]
  }
 ],
 "metadata": {
  "language_info": {
   "name": "python"
  }
 },
 "nbformat": 4,
 "nbformat_minor": 2
}
