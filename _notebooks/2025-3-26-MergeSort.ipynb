{
 "cells": [
  {
   "cell_type": "markdown",
   "metadata": {},
   "source": [
    "---\n",
    "layout: post\n",
    "title: MergeSort\n",
    "type: ccc \n",
    "toc: false\n",
    "courses: {csa: {week: 21}}\n",
    "comments: true\n",
    "---"
   ]
  },
  {
   "cell_type": "code",
   "execution_count": null,
   "metadata": {
    "vscode": {
     "languageId": "java"
    }
   },
   "outputs": [],
   "source": [
    "Merge Sort is a divide-and-conquer algorithm that splits an array into halves until each sub-array contains only one element. Then, it merges these sub-arrays in a sorted manner to produce larger sorted arrays until the whole array is merged back together in sorted order.\n",
    "\n",
    "Its time complexity is O(n log n) because:\n",
    "\n",
    "The array is divided in half at every level → log n levels.\n",
    "\n",
    "Each level involves combining all n elements during the merge step → O(n) per level. Thus, total time = O(n log n).\n",
    "\n",
    "Compared to other sorting algorithms:\n",
    "\n",
    "Bubble Sort repeatedly swaps adjacent elements and has a worst-case time of O(n²).\n",
    "\n",
    "Quick Sort also uses divide and conquer, but partitions the array based on a pivot and can degrade to O(n²) in the worst case (though it’s often faster in practice than Merge Sort).\n",
    "\n",
    "Merge Sort is stable, works well on large datasets, and is predictable in performance.\n",
    "\n"
   ]
  },
  {
   "cell_type": "code",
   "execution_count": 2,
   "metadata": {
    "vscode": {
     "languageId": "java"
    }
   },
   "outputs": [
    {
     "name": "stdout",
     "output_type": "stream",
     "text": [
      "Number of inversions: 6\n"
     ]
    }
   ],
   "source": [
    "public class MergeSortInversions {\n",
    "\n",
    "    public static int countInversions(int[] arr) {\n",
    "        int[] temp = new int[arr.length];\n",
    "        return mergeSortAndCount(arr, temp, 0, arr.length - 1);\n",
    "    }\n",
    "\n",
    "    private static int mergeSortAndCount(int[] arr, int[] temp, int left, int right) {\n",
    "        int mid, invCount = 0;\n",
    "        if (right > left) {\n",
    "            mid = (left + right) / 2;\n",
    "\n",
    "            invCount += mergeSortAndCount(arr, temp, left, mid);\n",
    "            invCount += mergeSortAndCount(arr, temp, mid + 1, right);\n",
    "\n",
    "            invCount += mergeAndCount(arr, temp, left, mid + 1, right);\n",
    "        }\n",
    "        return invCount;\n",
    "    }\n",
    "\n",
    "    private static int mergeAndCount(int[] arr, int[] temp, int left, int mid, int right) {\n",
    "        int i = left, j = mid, k = left;\n",
    "        int invCount = 0;\n",
    "\n",
    "        while (i <= mid - 1 && j <= right) {\n",
    "            if (arr[i] <= arr[j]) {\n",
    "                temp[k++] = arr[i++];\n",
    "            } else {\n",
    "                temp[k++] = arr[j++];\n",
    "                invCount += (mid - i);  // All remaining elements in left are greater than arr[j]\n",
    "            }\n",
    "        }\n",
    "\n",
    "        while (i <= mid - 1)\n",
    "            temp[k++] = arr[i++];\n",
    "        while (j <= right)\n",
    "            temp[k++] = arr[j++];\n",
    "        for (i = left; i <= right; i++)\n",
    "            arr[i] = temp[i];\n",
    "\n",
    "        return invCount;\n",
    "    }\n",
    "\n",
    "    public static void main(String[] args) {\n",
    "        int[] arr = {8, 4, 2, 1};\n",
    "        int invCount = countInversions(arr);\n",
    "        System.out.println(\"Number of inversions: \" + invCount);\n",
    "    }\n",
    "}\n",
    "MergeSortInversions.main(null);\n"
   ]
  },
  {
   "cell_type": "code",
   "execution_count": null,
   "metadata": {
    "vscode": {
     "languageId": "java"
    }
   },
   "outputs": [],
   "source": [
    "\n"
   ]
  }
 ],
 "metadata": {
  "kernelspec": {
   "display_name": "Java",
   "language": "java",
   "name": "java"
  },
  "language_info": {
   "codemirror_mode": "java",
   "file_extension": ".jshell",
   "mimetype": "text/x-java-source",
   "name": "Java",
   "pygments_lexer": "java",
   "version": "17.0.14+7-Ubuntu-122.04.1"
  }
 },
 "nbformat": 4,
 "nbformat_minor": 2
}
