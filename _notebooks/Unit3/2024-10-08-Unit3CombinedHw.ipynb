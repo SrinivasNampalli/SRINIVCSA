{
 "cells": [
  {
   "cell_type": "markdown",
   "metadata": {},
   "source": [
    "Popcorn Hack 1 CORRECTED CODE"
   ]
  },
  {
   "cell_type": "code",
   "execution_count": null,
   "metadata": {
    "vscode": {
     "languageId": "java"
    }
   },
   "outputs": [],
   "source": [
    "public class StringComparisonHack {\n",
    "    public static void main(String[] args) {\n",
    "        String myName = \"Alisha\";  // Correct way to initialize a string\n",
    "\n",
    "        // Use .equals() for string comparison\n",
    "        if (!myName.equals(\"Anika\")) {  // Correct way to compare inequality\n",
    "            System.out.println(\"myName is not Anika\");\n",
    "        }\n",
    "\n",
    "        if (myName.equals(\"Alisha\")) {  // Correct way to compare equality\n",
    "            System.out.println(\"myName is Alisha\");\n",
    "        }\n",
    "    }\n",
    "}\n"
   ]
  },
  {
   "cell_type": "markdown",
   "metadata": {},
   "source": [
    "The ineqality used to compare is incorrect and this code compeltely wrong"
   ]
  },
  {
   "cell_type": "markdown",
   "metadata": {
    "vscode": {
     "languageId": "java"
    }
   },
   "source": [
    "3.1 Homework Hack"
   ]
  },
  {
   "cell_type": "markdown",
   "metadata": {
    "vscode": {
     "languageId": "java"
    }
   },
   "source": [
    "The precondition for num is:\n",
    "\n",
    "The number of digits in num must be between 1 and 6, inclusive.\n",
    "num must be greater than or equal to 0 (num >= 0).\n",
    "Explanation:\n",
    "The first precondition ensures that the number has at least one digit and at most six digits.\n",
    "The second precondition ensures that num is a non-negative integer. This means the function should only accept positive integers and zero as inputs."
   ]
  },
  {
   "cell_type": "markdown",
   "metadata": {},
   "source": [
    "3.2 Homework Hack"
   ]
  }
 ],
 "metadata": {
  "language_info": {
   "name": "python"
  }
 },
 "nbformat": 4,
 "nbformat_minor": 2
}
