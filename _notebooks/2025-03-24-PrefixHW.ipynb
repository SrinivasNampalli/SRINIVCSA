{
 "cells": [
  {
   "cell_type": "markdown",
   "metadata": {},
   "source": [
    "🧾 Final Answers Summary:\n",
    "((6 * 3) + 4)\n",
    "\n",
    "((10 + (2 * 8)) - 3)\n",
    "\n",
    "((15 / 3) + (4 * 2))\n",
    "\n",
    "((7 + (3 * 2)) - 5)\n",
    "\n",
    "((9 + 3) ^ 2)\n",
    "\n",
    "Want me to show how t"
   ]
  },
  {
   "cell_type": "code",
   "execution_count": 12,
   "metadata": {
    "vscode": {
     "languageId": "java"
    }
   },
   "outputs": [
    {
     "name": "stdout",
     "output_type": "stream",
     "text": [
      "Postfix: 6 3 * 4 +\n",
      "Infix:   ((6 * 3) + 4)\n",
      "\n",
      "Postfix: 10 2 8 * + 3 -\n",
      "Infix:   ((10 + (2 * 8)) - 3)\n",
      "\n",
      "Postfix: 15 3 / 4 2 * +\n",
      "Infix:   ((15 / 3) + (4 * 2))\n",
      "\n",
      "Postfix: 7 3 2 * + 5 -\n",
      "Infix:   ((7 + (3 * 2)) - 5)\n",
      "\n",
      "Postfix: 9 3 + 2 ^\n",
      "Infix:   ((9 + 3) ^ 2)\n",
      "\n"
     ]
    }
   ],
   "source": [
    "import java.util.Stack;\n",
    "\n",
    "public class Prefix {\n",
    "\n",
    "    public static String convert(String postfixExpr) {\n",
    "        Stack<String> infixStack = new Stack<>();\n",
    "        String[] elements = postfixExpr.trim().split(\" \");\n",
    "\n",
    "        for (String element : elements) {\n",
    "            if (isOp(element)) {\n",
    "                String right = infixStack.pop();\n",
    "                String left = infixStack.pop();\n",
    "                String combined = \"(\" + left + \" \" + element + \" \" + right + \")\";\n",
    "                infixStack.push(combined);\n",
    "            } else {\n",
    "                infixStack.push(element);\n",
    "            }\n",
    "        }\n",
    "\n",
    "        return infixStack.pop();\n",
    "    }\n",
    "\n",
    "    private static boolean isOp(String token) {\n",
    "        return \"+-*/^\".contains(token);\n",
    "    }\n",
    "\n",
    "    public static void main(String[] args) {\n",
    "        String[] examples = {\n",
    "            \"6 3 * 4 +\",\n",
    "            \"10 2 8 * + 3 -\",\n",
    "            \"15 3 / 4 2 * +\",\n",
    "            \"7 3 2 * + 5 -\",\n",
    "            \"9 3 + 2 ^\"\n",
    "        };\n",
    "\n",
    "        for (String expr : examples) {\n",
    "            System.out.println(\"Postfix: \" + expr);\n",
    "            System.out.println(\"Infix:   \" + convert(expr));\n",
    "            System.out.println();\n",
    "        }\n",
    "    }\n",
    "}\n",
    "Prefix.main(null);\n"
   ]
  },
  {
   "cell_type": "markdown",
   "metadata": {},
   "source": [
    "HOMEWORK"
   ]
  },
  {
   "cell_type": "code",
   "execution_count": null,
   "metadata": {
    "vscode": {
     "languageId": "java"
    }
   },
   "outputs": [],
   "source": [
    "import java.util.Stack;\n",
    "\n",
    "public class PrefixCalculator {\n",
    "\n",
    "    // Evaluates a prefix expression like \"+ * 2 3 5\"\n",
    "    public static int evaluate(String prefixExpr) {\n",
    "        Stack<Integer> evalStack = new Stack<>();\n",
    "        String[] parts = prefixExpr.trim().split(\" \");\n",
    "\n",
    "        for (int i = parts.length - 1; i >= 0; i--) {\n",
    "            String current = parts[i];\n",
    "\n",
    "            if (isNumber(current)) {\n",
    "                evalStack.push(Integer.parseInt(current));\n",
    "            } else {\n",
    "                int a = evalStack.pop();\n",
    "                int b = evalStack.pop();\n",
    "                int result = calculate(current, a, b);\n",
    "                evalStack.push(result);\n",
    "            }\n",
    "        }\n",
    "\n",
    "        return evalStack.pop();\n",
    "    }\n",
    "\n",
    "    private static boolean isNumber(String s) {\n",
    "        return s.matches(\"-?\\\\d+\");\n",
    "    }\n",
    "\n",
    "    private static int calculate(String op, int a, int b) {\n",
    "        return switch (op) {\n",
    "            case \"+\" -> a + b;\n",
    "            case \"-\" -> a - b;\n",
    "            case \"*\" -> a * b;\n",
    "            case \"/\" -> a / b;\n",
    "            case \"^\" -> (int) Math.pow(a, b);\n",
    "            default -> throw new IllegalArgumentException(\"Unknown operator: \" + op);\n",
    "        };\n",
    "    }\n",
    "\n",
    "    public static void main(String[] args) {\n",
    "        String input = \"+ * 2 3 5\"; // (2 * 3) + 5 = 11\n",
    "        int result = evaluate(input);\n",
    "        System.out.println(\"Prefix Expression: \" + input);\n",
    "        System.out.println(\"Evaluated Result: \" + result);\n",
    "    }\n",
    "}\n",
    "PrefixCalcultor.main(null);"
   ]
  },
  {
   "cell_type": "markdown",
   "metadata": {},
   "source": [
    "Prefix Expression: + * 2 3 5\n",
    "Evaluated Result: 11"
   ]
  }
 ],
 "metadata": {
  "kernelspec": {
   "display_name": "Java",
   "language": "java",
   "name": "java"
  },
  "language_info": {
   "codemirror_mode": "java",
   "file_extension": ".jshell",
   "mimetype": "text/x-java-source",
   "name": "Java",
   "pygments_lexer": "java",
   "version": "17.0.14+7-Ubuntu-122.04.1"
  }
 },
 "nbformat": 4,
 "nbformat_minor": 2
}
