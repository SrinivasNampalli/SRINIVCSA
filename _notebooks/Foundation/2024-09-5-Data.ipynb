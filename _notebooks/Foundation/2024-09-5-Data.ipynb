{
 "cells": [
  {
   "cell_type": "markdown",
   "metadata": {},
   "source": [
    "---\n",
    "layout: post\n",
    "title: Data Type Game\n",
    "description:  Data Type  \n",
    "type: collab \n",
    "comments: true\n",
    "toc: false\n",
    "courses: {csa: {week: 1}}\n",
    "---"
   ]
  },
  {
   "cell_type": "code",
   "execution_count": 12,
   "metadata": {
    "vscode": {
     "languageId": "java"
    }
   },
   "outputs": [
    {
     "name": "stdout",
     "output_type": "stream",
     "text": [
      "How many numbers do you want to enter? Enter number 1: The mean of the entered numbers is: 1.0\n"
     ]
    }
   ],
   "source": [
    "import java.util.Scanner;\n",
    "import java.util.ArrayList;\n",
    "\n",
    "public class InteractiveMeanCalculator {\n",
    "\n",
    "    public static double calculateMean(ArrayList<Double> data) {\n",
    "        if (data.isEmpty()) {\n",
    "            System.out.println(\"No data entered.\");\n",
    "            return 0;\n",
    "        }\n",
    "        \n",
    "        double sum = 0;\n",
    "        for (double num : data) {\n",
    "            sum += num;\n",
    "        }\n",
    "        \n",
    "        return sum / data.size();\n",
    "    }\n",
    "\n",
    "    public static void main(String[] args) {\n",
    "        \n",
    "        Scanner scanner = new Scanner(System.in);\n",
    "        \n",
    "        \n",
    "        ArrayList<Double> numbers = new ArrayList<>();\n",
    "        \n",
    "       \n",
    "        System.out.print(\"How many numbers do you want to enter? \");\n",
    "        int count = scanner.nextInt();\n",
    "        for (int i = 1; i <= count; i++) {\n",
    "            System.out.print(\"Enter number \" + i + \": \");\n",
    "            double num = scanner.nextDouble();\n",
    "            numbers.add(num);  \n",
    "        }\n",
    "\n",
    "        \n",
    "        double mean = calculateMean(numbers);\n",
    "        \n",
    "        System.out.println(\"The mean of the entered numbers is: \" + mean);\n",
    "        \n",
    "        scanner.close();\n",
    "    }\n",
    "}\n",
    "InteractiveMeanCalculator.main(null);"
   ]
  },
  {
   "cell_type": "code",
   "execution_count": null,
   "metadata": {
    "vscode": {
     "languageId": "java"
    }
   },
   "outputs": [],
   "source": []
  }
 ],
 "metadata": {
  "kernelspec": {
   "display_name": "Java",
   "language": "java",
   "name": "java"
  },
  "language_info": {
   "codemirror_mode": "java",
   "file_extension": ".jshell",
   "mimetype": "text/x-java-source",
   "name": "Java",
   "pygments_lexer": "java",
   "version": "17.0.12+7-Ubuntu-1ubuntu222.04"
  }
 },
 "nbformat": 4,
 "nbformat_minor": 2
}
