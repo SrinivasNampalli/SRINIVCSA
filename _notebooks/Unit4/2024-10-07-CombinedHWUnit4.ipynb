{
 "cells": [
  {
   "cell_type": "markdown",
   "metadata": {},
   "source": [
    "---\n",
    "layout: post\n",
    "title: Unit 4 Hacks \n",
    "type: ccc \n",
    "toc: false\n",
    "courses: {csa: {week: 7}}\n",
    "---"
   ]
  },
  {
   "cell_type": "markdown",
   "metadata": {},
   "source": [
    "### Fun While Loop Hack:\n",
    "- find and fix the missing increment in the while loop"
   ]
  },
  {
   "cell_type": "code",
   "execution_count": null,
   "metadata": {
    "vscode": {
     "languageId": "java"
    }
   },
   "outputs": [],
   "source": [
    "int i = 0;\n",
    "while (i < 5) {\n",
    "    System.out.println(i);\n",
    "    i++ //fixed incremenetnt\n",
    "}"
   ]
  },
  {
   "cell_type": "markdown",
   "metadata": {},
   "source": [
    "Fun For Loop Hack:\n",
    "Create a program that iterates through a list of numbers (int_list = {0, 4, 51, 83, 92, 10, 123, 145}) using both a for loop and a for each loop, then split the numbers in the list into even/odd lists, and output them.\n",
    "\n"
   ]
  },
  {
   "cell_type": "code",
   "execution_count": null,
   "metadata": {
    "vscode": {
     "languageId": "java"
    }
   },
   "outputs": [],
   "source": [
    "import java.util.ArrayList;\n",
    "\n",
    "public class FunForLoopHack {\n",
    "    public static void main(String[] args) {\n",
    "        int[] int_list = {0, 4, 51, 83, 92, 10, 123, 145};\n",
    "        ArrayList<Integer> evenNumbers = new ArrayList<>();\n",
    "        ArrayList<Integer> oddNumbers = new ArrayList<>();\n",
    "    \n",
    "        System.out.println(\"Using for loop:\");\n",
    "        for (int i = 0; i < int_list.length; i++) {\n",
    "            System.out.print(int_list[i] + \" \");\n",
    "            if (int_list[i] % 2 == 0) {\n",
    "                evenNumbers.add(int_list[i]);\n",
    "            } else {\n",
    "                oddNumbers.add(int_list[i]);\n",
    "            }\n",
    "        }\n",
    "        System.out.println();\n",
    "    \n",
    "        System.out.println(\"Using for-each loop:\");\n",
    "        for (int num : int_list) {\n",
    "            System.out.print(num + \" \");\n",
    "        }\n",
    "        System.out.println();\n",
    "        System.out.println(\"Even numbers: \" + evenNumbers);\n",
    "        System.out.println(\"Odd numbers: \" + oddNumbers);\n",
    "    }\n",
    "}\n"
   ]
  },
  {
   "cell_type": "markdown",
   "metadata": {},
   "source": [
    "Popcorn Hack:\n",
    "Iterate through the characters a string with a while loop"
   ]
  },
  {
   "cell_type": "code",
   "execution_count": null,
   "metadata": {
    "vscode": {
     "languageId": "java"
    }
   },
   "outputs": [],
   "source": [
    "public class PopcornHack {\n",
    "    public static void main(String[] args) {\n",
    "        String str = \"Popcorn Hack\"; // Example string\n",
    "        int index = 0;\n",
    "        while (index < str.length()) {\n",
    "            System.out.println(str.charAt(index));\n",
    "            index++;\n",
    "        }\n",
    "    }\n",
    "}\n"
   ]
  },
  {
   "cell_type": "markdown",
   "metadata": {},
   "source": [
    "Homework Hack!\n",
    "code a caesar cipher that will encrypt any string with any key provided.\n",
    "your code should go into the encrypt() method, and should successfully pass the test cases provided\n",
    "as a bonus, try to use StringBuilder"
   ]
  },
  {
   "cell_type": "code",
   "execution_count": 2,
   "metadata": {
    "vscode": {
     "languageId": "java"
    }
   },
   "outputs": [
    {
     "name": "stdout",
     "output_type": "stream",
     "text": [
      "Test 1: khoor zruog\n",
      "Test 2: klmnopq\n",
      "Test 3: c fipy wmu\n"
     ]
    }
   ],
   "source": [
    "public class CaesarCipher {\n",
    "    private int key;\n",
    "    private String phrase;\n",
    "\n",
    "    public CaesarCipher(int key, String phrase) {\n",
    "        this.key = key;\n",
    "        this.phrase = phrase;\n",
    "    }\n",
    "    public String encrypt() {\n",
    "        StringBuilder encryptedPhrase = new StringBuilder();\n",
    "        for (int i = 0; i < phrase.length(); i++) {\n",
    "            char currentChar = phrase.charAt(i);\n",
    "\n",
    "            if (Character.isLetter(currentChar)) {\n",
    "                char base = Character.isLowerCase(currentChar) ? 'a' : 'A';\n",
    "                char encryptedChar = (char) ((currentChar - base + key) % 26 + base);\n",
    "                encryptedPhrase.append(encryptedChar);\n",
    "            } else {\n",
    "\n",
    "                encryptedPhrase.append(currentChar);\n",
    "            }\n",
    "        }\n",
    "        return encryptedPhrase.toString();\n",
    "    }\n",
    "\n",
    "    public static void main(String[] args) {\n",
    "\n",
    "        CaesarCipher test1 = new CaesarCipher(3, \"hello world\");\n",
    "        CaesarCipher test2 = new CaesarCipher(10, \"abcdefg\");\n",
    "        CaesarCipher test3 = new CaesarCipher(20, \"i love csa\");\n",
    "        System.out.println(\"Test 1: \" + test1.encrypt()); \n",
    "        System.out.println(\"Test 2: \" + test2.encrypt()); \n",
    "        System.out.println(\"Test 3: \" + test3.encrypt()); \n",
    "    }\n",
    "}\n",
    "\n",
    "CaesarCipher.main(null);\n"
   ]
  },
  {
   "cell_type": "markdown",
   "metadata": {},
   "source": [
    "THE ONE SETENCE ANSWER. THE OUTER FOR LOOP DETERMINES THE AMOUNT OF TIMES IT RUNS, THE INNER IS THE ONE WE WANT TO MAKE SURE RUNS THAT MANY TIMES SO 6 ROWS OF 6 DOTS."
   ]
  },
  {
   "cell_type": "markdown",
   "metadata": {},
   "source": [
    "Unit 4 - Iteration:\n",
    "This is the homework quiz for unit 4, iterations\n",
    "4 multiple choice questions\n",
    "2 programming hacks\n",
    "1 bonus programming hack (required to get above 0.9)\n",
    "Question 1:\n",
    "What does the following code print?\n",
    "\n",
    "A. 5 6 7 8 9\n",
    "\n",
    "B. 4 5 6 7 8 9 10 11 12\n",
    "\n",
    "C. 3 5 7 9 11\n",
    "\n",
    "D. 3 4 5 6 7 8 9 10 11 12\n",
    "\n"
   ]
  },
  {
   "cell_type": "code",
   "execution_count": null,
   "metadata": {
    "vscode": {
     "languageId": "java"
    }
   },
   "outputs": [],
   "source": [
    "for (int i = 3; i <= 12; i++) {\n",
    "    System.out.print(i + \" \");\n",
    " }"
   ]
  },
  {
   "cell_type": "markdown",
   "metadata": {},
   "source": [
    "The Answer is D because the iteration goes from 3 to 12 and it includes twele. "
   ]
  },
  {
   "cell_type": "markdown",
   "metadata": {},
   "source": [
    "Bonus: Difference between for and while loops\n",
    "For Loop: The loop variable (i in this case) is defined inside the loop structure. It automatically increments and checks its condition in a single line.\n",
    "While Loop: The loop variable is defined outside the loop. The condition and increment must be manually managed, which makes it more versatile but prone to infinite loops if not handled properly."
   ]
  },
  {
   "cell_type": "markdown",
   "metadata": {},
   "source": [
    "Question 2: How many times does the code print a *?"
   ]
  },
  {
   "cell_type": "code",
   "execution_count": null,
   "metadata": {
    "vscode": {
     "languageId": "java"
    }
   },
   "outputs": [],
   "source": [
    "for (int i = 3; i < 11; i++) {\n",
    "    System.out.print(\"*\");\n",
    " }\n",
    " "
   ]
  },
  {
   "cell_type": "markdown",
   "metadata": {},
   "source": [
    "The loop starts at i = 3 and runs until i = 10 (since i < 11).\n",
    "This means it iterates from 3 up to 10, printing a * on each iteration.\n",
    "Number of iterations: 11 - 3 = 8\n",
    "\n",
    "Output:\n",
    "C. 8"
   ]
  },
  {
   "cell_type": "markdown",
   "metadata": {},
   "source": [
    "QUESTION 3"
   ]
  },
  {
   "cell_type": "code",
   "execution_count": null,
   "metadata": {
    "vscode": {
     "languageId": "java"
    }
   },
   "outputs": [],
   "source": [
    "int x = -5;\n",
    "while (x < 0) {\n",
    "   x++;\n",
    "   System.out.print(x + \" \");\n",
    "}\n"
   ]
  },
  {
   "cell_type": "markdown",
   "metadata": {},
   "source": [
    "The loop starts with x = -5 and runs as long as x < 0.\n",
    "In each iteration, x is incremented by 1 before printing.\n",
    "It will print from -4 to 0.\n",
    "Output:\n",
    "A. -4 -3 -2 -1 0"
   ]
  },
  {
   "cell_type": "markdown",
   "metadata": {},
   "source": [
    "Question 4: What does the code print?"
   ]
  },
  {
   "cell_type": "code",
   "execution_count": null,
   "metadata": {
    "vscode": {
     "languageId": "java"
    }
   },
   "outputs": [],
   "source": [
    "int sum = 0;\n",
    "for (int i = 1; i <= 5; i++) {\n",
    "    if (i % 2 == 0) {\n",
    "        sum += i * 2;\n",
    "    } else {\n",
    "        sum += i;\n",
    "    }\n",
    "}\n",
    "System.out.println(sum);\n"
   ]
  },
  {
   "cell_type": "markdown",
   "metadata": {},
   "source": [
    "nswer Explanation:\n",
    "The loop runs from i = 1 to i = 5.\n",
    "If i is even, it adds i * 2 to sum.\n",
    "If i is odd, it adds i to sum.\n",
    "i\tOperation\tResulting sum\n",
    "1\tsum += 1\t1\n",
    "2\tsum += 4\t5\n",
    "3\tsum += 3\t8\n",
    "4\tsum += 8\t16\n",
    "5\tsum += 5\t21\n",
    "Output:\n",
    "B. 21"
   ]
  },
  {
   "cell_type": "markdown",
   "metadata": {},
   "source": [
    "Homework Hack One"
   ]
  },
  {
   "cell_type": "code",
   "execution_count": 3,
   "metadata": {
    "vscode": {
     "languageId": "java"
    }
   },
   "outputs": [
    {
     "name": "stdout",
     "output_type": "stream",
     "text": [
      "Numbers divisible by 3 or 5: [3, 5, 6, 9, 10, 12, 15, 18, 20, 21, 24, 25, 27, 30, 33, 35, 36, 39, 40, 42, 45, 48, 50]\n"
     ]
    }
   ],
   "source": [
    "import java.util.ArrayList;\n",
    "import java.util.List;\n",
    "\n",
    "public class DivisibleBy3Or5 {\n",
    "    public static void main(String[] args) {\n",
    "        int num = 1;\n",
    "        List<Integer> result = new ArrayList<>();\n",
    "\n",
    "        while (num <= 50) {\n",
    "            if (num % 3 == 0 || num % 5 == 0) {\n",
    "                result.add(num);\n",
    "            }\n",
    "            num++;\n",
    "        }\n",
    "\n",
    "        System.out.println(\"Numbers divisible by 3 or 5: \" + result);\n",
    "    }\n",
    "}\n",
    "DivisibleBy3Or5.main(null);\n"
   ]
  },
  {
   "cell_type": "code",
   "execution_count": 4,
   "metadata": {
    "vscode": {
     "languageId": "java"
    }
   },
   "outputs": [
    {
     "name": "stdout",
     "output_type": "stream",
     "text": [
      "Numbers divisible by 3 or 5: [3, 5, 6, 9, 10, 12, 15, 18, 20, 21, 24, 25, 27, 30, 33, 35, 36, 39, 40, 42, 45, 48, 50]\n"
     ]
    }
   ],
   "source": [
    "import java.util.ArrayList;\n",
    "import java.util.List;\n",
    "\n",
    "public class DivisibleBy3Or5 {\n",
    "    public static void main(String[] args) {\n",
    "        List<Integer> result = new ArrayList<>();\n",
    "\n",
    "        for (int num = 1; num <= 50; num++) {\n",
    "            if (num % 3 == 0 || num % 5 == 0) {\n",
    "                result.add(num);\n",
    "            }\n",
    "        }\n",
    "\n",
    "        System.out.println(\"Numbers divisible by 3 or 5: \" + result);\n",
    "    }\n",
    "}\n",
    "DivisibleBy3Or5.main(null);"
   ]
  },
  {
   "cell_type": "markdown",
   "metadata": {},
   "source": [
    "Harder Hack\n",
    "Palindromes are numbers that have the same value when reversed (ex: “123321” or “323”). Create a program that uses a while loop that outputs all palindromes in any given list.\n",
    "Sample Input: test_list = [5672, 235, 5537, 6032, 317, 8460, 1672, 8104, 7770, 4442, 913, 2508, 1116, 9969, 9091, 522, 8756, 9527, 7968, 1520, 4444, 515, 2882, 6556, 595]\n",
    "\n",
    "Sample Output: 4444, 515, 2882, 6556, 595"
   ]
  },
  {
   "cell_type": "code",
   "execution_count": 1,
   "metadata": {
    "vscode": {
     "languageId": "java"
    }
   },
   "outputs": [
    {
     "name": "stdout",
     "output_type": "stream",
     "text": [
      "Palindromes: [4444, 515, 2882, 6556, 595]\n"
     ]
    }
   ],
   "source": [
    "import java.util.ArrayList;\n",
    "\n",
    "public class PalindromeHack {\n",
    "    public static void main(String[] args) {\n",
    "        int[] test_list = {5672, 235, 5537, 6032, 317, 8460, 1672, 8104, 7770, 4442, 913, 2508, 1116, 9969, 9091, 522, 8756, 9527, 7968, 1520, 4444, 515, 2882, 6556, 595};\n",
    "        \n",
    "        ArrayList<Integer> palindromes = new ArrayList<>();\n",
    "    \n",
    "        int index = 0;\n",
    "\n",
    "        while (index < test_list.length) {\n",
    "            int number = test_list[index];\n",
    "            if (isPalindrome(number)) {\n",
    "                palindromes.add(number);\n",
    "            }\n",
    "\n",
    "            index++;\n",
    "        }\n",
    "\n",
    "        System.out.println(\"Palindromes: \" + palindromes);\n",
    "    }\n",
    "\n",
    "    public static boolean isPalindrome(int number) {\n",
    "        int originalNumber = number;\n",
    "        int reversedNumber = 0;\n",
    "\n",
    "        while (number > 0) {\n",
    "            int digit = number % 10;\n",
    "            reversedNumber = reversedNumber * 10 + digit;\n",
    "            number /= 10;\n",
    "        }\n",
    "\n",
    "        return originalNumber == reversedNumber;\n",
    "    }\n",
    "}\n",
    "PalindromeHack.main(null);"
   ]
  },
  {
   "cell_type": "markdown",
   "metadata": {},
   "source": [
    "Bonus Hack (for above 0.9)\n",
    "Use a for loop to output a spiral matrix with size n\n",
    "Example:\n",
    "\n",
    "Sample Input: n = 3\n",
    "\n",
    "Output: [[1, 2, 3], [8, 9, 4], [7, 6, 5]]"
   ]
  },
  {
   "cell_type": "code",
   "execution_count": 5,
   "metadata": {
    "vscode": {
     "languageId": "java"
    }
   },
   "outputs": [
    {
     "name": "stdout",
     "output_type": "stream",
     "text": [
      "[1, 2, 3]\n",
      "[8, 9, 4]\n",
      "[7, 6, 5]\n"
     ]
    }
   ],
   "source": [
    "import java.util.Arrays;\n",
    "\n",
    "public class SpiralMatrix {\n",
    "    public static void main(String[] args) {\n",
    "        int n = 3;\n",
    "        int[][] matrix = generateSpiralMatrix(n);\n",
    "\n",
    "        for (int[] row : matrix) {\n",
    "            System.out.println(Arrays.toString(row));\n",
    "        }\n",
    "    }\n",
    "    public static int[][] generateSpiralMatrix(int n) {\n",
    "        int[][] spiralMatrix = new int[n][n];\n",
    "        int top = 0, bottom = n - 1, left = 0, right = n - 1;\n",
    "        int value = 1;\n",
    "        while (value <= n * n) {\n",
    "            for (int i = left; i <= right; i++) {\n",
    "                spiralMatrix[top][i] = value++;\n",
    "            }\n",
    "            top++; \n",
    "            for (int i = top; i <= bottom; i++) {\n",
    "                spiralMatrix[i][right] = value++;\n",
    "            }\n",
    "            right--;\n",
    "\n",
    "            for (int i = right; i >= left; i--) {\n",
    "                spiralMatrix[bottom][i] = value++;\n",
    "            }\n",
    "            bottom--; \n",
    "            for (int i = bottom; i >= top; i--) {\n",
    "                spiralMatrix[i][left] = value++;\n",
    "            }\n",
    "            left++; \n",
    "        }\n",
    "\n",
    "        return spiralMatrix;\n",
    "    }\n",
    "}\n",
    "SpiralMatrix.main(null);"
   ]
  },
  {
   "cell_type": "markdown",
   "metadata": {},
   "source": [
    "EXTRA HACK GAME I MADE"
   ]
  },
  {
   "cell_type": "code",
   "execution_count": null,
   "metadata": {
    "vscode": {
     "languageId": "java"
    }
   },
   "outputs": [],
   "source": [
    "import java.util.Random;  \n",
    "import java.util.Scanner;  // Using Scanner class for user input\n",
    "\n",
    "public class DungeonExplorer {\n",
    "    private static final int MAX_HEALTH = 100;  // Maximum player health\n",
    "    private static final int NUM_ROOMS = 10;  // Total number of rooms in the dungeon\n",
    "\n",
    "    private int health;\n",
    "    private int score;\n",
    "    private String[] rooms;  // Array to hold room contents (Treasure, Trap, Puzzle)\n",
    "    private Scanner input;\n",
    "\n",
    "    public DungeonExplorer() {\n",
    "        this.health = MAX_HEALTH;\n",
    "        this.score = 0;\n",
    "        this.rooms = new String[NUM_ROOMS];\n",
    "        this.input = new Scanner(System.in);\n",
    "        generateRooms();\n",
    "    }\n",
    "\n",
    "    // Method to randomly assign contents to each room\n",
    "    private void generateRooms() {\n",
    "        Random random = new Random();\n",
    "        String[] roomTypes = {\"Treasure\", \"Trap\", \"Puzzle\"};\n",
    "\n",
    "        for (int i = 0; i < NUM_ROOMS; i++) {\n",
    "            // Randomly assign one of the room types\n",
    "            rooms[i] = roomTypes[random.nextInt(roomTypes.length)];\n",
    "        }\n",
    "    }\n",
    "\n",
    "    // Method to start the game\n",
    "    public void playGame() {\n",
    "        System.out.println(\"Welcome to the Dungeon Explorer Game!\");\n",
    "        System.out.println(\"Explore the dungeon rooms and try to reach the end while collecting treasures and avoiding traps!\");\n",
    "        System.out.println(\"You have \" + health + \" health points. Good luck!\");\n",
    "\n",
    "        // Start the journey from the first room\n",
    "        for (int currentRoom = 0; currentRoom < NUM_ROOMS; currentRoom++) {\n",
    "            System.out.println(\"\\nYou are in Room \" + (currentRoom + 1) + \".\");\n",
    "            String roomContent = rooms[currentRoom];\n",
    "\n",
    "            if (roomContent.equals(\"Treasure\")) {\n",
    "                findTreasure();\n",
    "            } else if (roomContent.equals(\"Trap\")) {\n",
    "                encounterTrap();\n",
    "            } else if (roomContent.equals(\"Puzzle\")) {\n",
    "                solvePuzzle();\n",
    "            }\n",
    "\n",
    "            // Check if health has reached zero\n",
    "            if (health <= 0) {\n",
    "                System.out.println(\"You have run out of health! Game over.\");\n",
    "                return;\n",
    "            }\n",
    "\n",
    "            // Move to the next room or allow the player to exit\n",
    "            if (currentRoom != NUM_ROOMS - 1) {\n",
    "                System.out.print(\"Do you want to continue to the next room? (yes/no): \");\n",
    "                String choice = input.nextLine();\n",
    "                if (choice.equalsIgnoreCase(\"no\")) {\n",
    "                    System.out.println(\"You chose to exit the dungeon with a score of \" + score + \".\");\n",
    "                    return;\n",
    "                }\n",
    "            }\n",
    "        }\n",
    "\n",
    "        System.out.println(\"Congratulations! You have successfully explored the entire dungeon with a score of \" + score + \" and \" + health + \" health remaining.\");\n",
    "    }\n",
    "\n",
    "    // Method to handle Treasure rooms\n",
    "    private void findTreasure() {\n",
    "        Random random = new Random();\n",
    "        int treasureValue = random.nextInt(20) + 10;  // Treasure value between 10 and 30 points\n",
    "        score += treasureValue;\n",
    "        System.out.println(\"You found a treasure worth \" + treasureValue + \" points! Your current score is: \" + score);\n",
    "    }\n",
    "\n",
    "    // Method to handle Trap rooms\n",
    "    private void encounterTrap() {\n",
    "        Random random = new Random();\n",
    "        int damage = random.nextInt(20) + 10;  // Trap damage between 10 and 30 points\n",
    "        health -= damage;\n",
    "        System.out.println(\"Oh no! You stepped into a trap and lost \" + damage + \" health points. Your current health is: \" + health);\n",
    "    }\n",
    "\n",
    "    // Method to handle Puzzle rooms\n",
    "    private void solvePuzzle() {\n",
    "        System.out.println(\"You encountered a puzzle! Solve the riddle to gain points.\");\n",
    "        Random random = new Random();\n",
    "        int puzzleType = random.nextInt(2);  // Randomly choose between two types of puzzles\n",
    "\n",
    "        if (puzzleType == 0) {\n",
    "            // Riddle Puzzle\n",
    "            System.out.println(\"Riddle: What has keys but can't open locks?\");\n",
    "            System.out.print(\"Your answer: \");\n",
    "            String answer = input.nextLine();\n",
    "            if (answer.equalsIgnoreCase(\"keyboard\")) {\n",
    "                System.out.println(\"Correct! You gain 20 points.\");\n",
    "                score += 20;\n",
    "            } else {\n",
    "                System.out.println(\"Wrong answer! You lose 10 health points.\");\n",
    "                health -= 10;\n",
    "            }\n",
    "        } else {\n",
    "            // Math Puzzle\n",
    "            System.out.println(\"Solve this math problem: What is 15 + 28?\");\n",
    "            System.out.print(\"Your answer: \");\n",
    "            int answer = input.nextInt();\n",
    "            input.nextLine();  // Consume the newline character\n",
    "\n",
    "            if (answer == 43) {\n",
    "                System.out.println(\"Correct! You gain 20 points.\");\n",
    "                score += 20;\n",
    "            } else {\n",
    "                System.out.println(\"Wrong answer! You lose 10 health points.\");\n",
    "                health -= 10;\n",
    "            }\n",
    "        }\n",
    "\n",
    "        System.out.println(\"Your current health is: \" + health + \", and your score is: \" + score);\n",
    "    }\n",
    "\n",
    "    public static void main(String[] args) {\n",
    "        DungeonExplorer game = new DungeonExplorer();\n",
    "        game.playGame();\n",
    "    }\n",
    "}\n"
   ]
  },
  {
   "cell_type": "code",
   "execution_count": null,
   "metadata": {
    "vscode": {
     "languageId": "java"
    }
   },
   "outputs": [],
   "source": []
  }
 ],
 "metadata": {
  "kernelspec": {
   "display_name": "Java",
   "language": "java",
   "name": "java"
  },
  "language_info": {
   "codemirror_mode": "java",
   "file_extension": ".jshell",
   "mimetype": "text/x-java-source",
   "name": "Java",
   "pygments_lexer": "java",
   "version": "17.0.12+7-Ubuntu-1ubuntu222.04"
  }
 },
 "nbformat": 4,
 "nbformat_minor": 2
}
