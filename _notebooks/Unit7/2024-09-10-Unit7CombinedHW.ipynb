{
 "cells": [
  {
   "cell_type": "markdown",
   "metadata": {},
   "source": [
    "---\n",
    "layout: post\n",
    "title: Unit 7 Hacks \n",
    "type: ccc \n",
    "toc: false\n",
    "courses: {csa: {week: 4}}\n",
    "---"
   ]
  },
  {
   "cell_type": "markdown",
   "metadata": {},
   "source": [
    "POPCORN HACKS 7.1 & 7.2\n",
    "Create an ArrayList of Strings with the following elements: “Apple”, “Banana”, “Cherry”, “Date”, “Elderberry”. Complete the following tasks using the ArrayList methods you’ve learned:\n",
    "\n",
    "Task 1: Print the size of the ArrayList.\n",
    "Task 2: Add a new element “Fig” to the end of the list.\n",
    "Task 3: Insert “Grape” at index 2.\n",
    "Task 4: Replace the element at index 4 with “Guava”.\n",
    "Task 5: Remove the element at index 1.\n",
    "Task 6: Retrieve and print the element at index 3.\n",
    "At the end of each task, print the current state of the ArrayList to verify the result."
   ]
  },
  {
   "cell_type": "code",
   "execution_count": 1,
   "metadata": {
    "vscode": {
     "languageId": "java"
    }
   },
   "outputs": [
    {
     "name": "stdout",
     "output_type": "stream",
     "text": [
      "Task 1 - Size of the ArrayList: 5\n",
      "ArrayList: [Apple, Banana, Cherry, Date, Elderberry]\n",
      "\n",
      "Task 2 - After adding 'Fig': [Apple, Banana, Cherry, Date, Elderberry, Fig]\n",
      "\n",
      "Task 3 - After inserting 'Grape' at index 2: [Apple, Banana, Grape, Cherry, Date, Elderberry, Fig]\n",
      "\n",
      "Task 4 - After replacing element at index 4 with 'Guava': [Apple, Banana, Grape, Cherry, Guava, Elderberry, Fig]\n",
      "\n",
      "Task 5 - After removing the element at index 1: [Apple, Grape, Cherry, Guava, Elderberry, Fig]\n",
      "\n",
      "Task 6 - Element at index 3: Guava\n",
      "Final ArrayList: [Apple, Grape, Cherry, Guava, Elderberry, Fig]\n"
     ]
    }
   ],
   "source": [
    "import java.util.ArrayList;\n",
    "\n",
    "public class PopcornHacks {\n",
    "    public static void main(String[] args) {\n",
    "        // Step 1: Create an ArrayList with the given elements\n",
    "        ArrayList<String> fruits = new ArrayList<>();\n",
    "        fruits.add(\"Apple\");\n",
    "        fruits.add(\"Banana\");\n",
    "        fruits.add(\"Cherry\");\n",
    "        fruits.add(\"Date\");\n",
    "        fruits.add(\"Elderberry\");\n",
    "        \n",
    "        // Task 1: Print the size of the ArrayList\n",
    "        System.out.println(\"Task 1 - Size of the ArrayList: \" + fruits.size());\n",
    "        System.out.println(\"ArrayList: \" + fruits + \"\\n\");\n",
    "        \n",
    "        // Task 2: Add a new element \"Fig\" to the end of the list\n",
    "        fruits.add(\"Fig\");\n",
    "        System.out.println(\"Task 2 - After adding 'Fig': \" + fruits + \"\\n\");\n",
    "        \n",
    "        // Task 3: Insert \"Grape\" at index 2\n",
    "        fruits.add(2, \"Grape\");\n",
    "        System.out.println(\"Task 3 - After inserting 'Grape' at index 2: \" + fruits + \"\\n\");\n",
    "        \n",
    "        // Task 4: Replace the element at index 4 with \"Guava\"\n",
    "        fruits.set(4, \"Guava\");\n",
    "        System.out.println(\"Task 4 - After replacing element at index 4 with 'Guava': \" + fruits + \"\\n\");\n",
    "        \n",
    "        // Task 5: Remove the element at index 1\n",
    "        fruits.remove(1);\n",
    "        System.out.println(\"Task 5 - After removing the element at index 1: \" + fruits + \"\\n\");\n",
    "        \n",
    "        // Task 6: Retrieve and print the element at index 3\n",
    "        String elementAtIndex3 = fruits.get(3);\n",
    "        System.out.println(\"Task 6 - Element at index 3: \" + elementAtIndex3);\n",
    "        System.out.println(\"Final ArrayList: \" + fruits);\n",
    "    }\n",
    "}\n",
    "PopcornHacks.main(null);"
   ]
  },
  {
   "cell_type": "markdown",
   "metadata": {
    "vscode": {
     "languageId": "java"
    }
   },
   "source": [
    "Finish the code below so that it uses the findSum() method and it finds the sum of the numbers."
   ]
  },
  {
   "cell_type": "code",
   "execution_count": 1,
   "metadata": {
    "vscode": {
     "languageId": "java"
    }
   },
   "outputs": [
    {
     "name": "stdout",
     "output_type": "stream",
     "text": [
      "Sum of the numbers: 19\n"
     ]
    }
   ],
   "source": [
    "import java.util.ArrayList;\n",
    "\n",
    "public class ArrayListHacks {\n",
    "    // Method to find the sum of the ArrayList elements\n",
    "    private int findSum(ArrayList<Integer> values) {\n",
    "        int sum = 0;\n",
    "        for (int value : values) {\n",
    "            sum += value;\n",
    "        }\n",
    "        return sum;\n",
    "    }\n",
    "\n",
    "    public static void main(String[] args) {\n",
    "        // Initialize ArrayList with numbers\n",
    "        ArrayList<Integer> nums = new ArrayList<>();\n",
    "        nums.add(0);\n",
    "        nums.add(1);\n",
    "        nums.add(2);\n",
    "        nums.add(3);\n",
    "        nums.add(5);\n",
    "        nums.add(8);\n",
    "\n",
    "        // Create an instance of ArrayListHacks and find the sum\n",
    "        ArrayListHacks hacks = new ArrayListHacks();\n",
    "        int sum = hacks.findSum(nums);\n",
    "\n",
    "        // Print the sum\n",
    "        System.out.println(\"Sum of the numbers: \" + sum);\n",
    "    }\n",
    "}\n",
    "\n",
    "ArrayListHacks.main(null);"
   ]
  },
  {
   "cell_type": "markdown",
   "metadata": {
    "vscode": {
     "languageId": "java"
    }
   },
   "source": [
    "Problem: Sort the Ducks!\n",
    "You have a list of ducks, and each duck has a name and weight. Your task is to sort these ducks by weight in ascending order.\n",
    "\n",
    "Choose either Selection Sort or Insertion Sort to do the sorting.\n",
    "\n",
    "Example:\n",
    "Given this list:\n",
    "\n",
    "Duck A (4.5 kg)\n",
    "Duck B (2.1 kg)\n",
    "Duck C (5.0 kg)\n",
    "Duck D (1.9 kg)\n",
    "After sorting, the output should be:\n",
    "\n",
    "Duck D (1.9 kg)\n",
    "Duck B (2.1 kg)\n",
    "Duck A (4.5 kg)\n",
    "Duck C (5.0 kg)\n",
    "You can use this class for the ducks:"
   ]
  },
  {
   "cell_type": "code",
   "execution_count": 2,
   "metadata": {
    "vscode": {
     "languageId": "java"
    }
   },
   "outputs": [
    {
     "name": "stdout",
     "output_type": "stream",
     "text": [
      "List of Ducks Before Sorting:\n",
      "Duck A (4.5 kg)\n",
      "Duck B (2.1 kg)\n",
      "Duck C (5.0 kg)\n",
      "Duck D (1.9 kg)\n",
      "\n",
      "List of Ducks After Sorting by Weight:\n",
      "Duck D (1.9 kg)\n",
      "Duck B (2.1 kg)\n",
      "Duck A (4.5 kg)\n",
      "Duck C (5.0 kg)\n"
     ]
    }
   ],
   "source": [
    "import java.util.ArrayList;\n",
    "\n",
    "class DebugDuck implements Comparable<DebugDuck> {\n",
    "    String name;      \n",
    "    double weight;     \n",
    "\n",
    "    public DebugDuck(String name, double weight) {\n",
    "        this.name = name;\n",
    "        this.weight = weight;\n",
    "    }\n",
    "    @Override\n",
    "    public int compareTo(DebugDuck other) {\n",
    "        return Double.compare(this.weight, other.weight);\n",
    "    }\n",
    "\n",
    "    @Override\n",
    "    public String toString() {\n",
    "        return name + \" (\" + weight + \" kg)\";\n",
    "    }\n",
    "}\n",
    "\n",
    "public class DuckSorter {\n",
    "    public static void sortDucksByWeight(ArrayList<DebugDuck> duckList) {\n",
    "        int size = duckList.size();\n",
    "        for (int i = 0; i < size - 1; i++) {\n",
    "            int lightestIndex = i;\n",
    "            for (int j = i + 1; j < size; j++) {\n",
    "                if (duckList.get(j).compareTo(duckList.get(lightestIndex)) < 0) {\n",
    "                    lightestIndex = j;\n",
    "                }\n",
    "            }\n",
    "            // Swap the lightest duck found with the current position in the unsorted portion\n",
    "            DebugDuck temp = duckList.get(i);\n",
    "            duckList.set(i, duckList.get(lightestIndex));\n",
    "            duckList.set(lightestIndex, temp);\n",
    "        }\n",
    "    }\n",
    "\n",
    "    public static void main(String[] args) {\n",
    "        ArrayList<DebugDuck> ducks = new ArrayList<>();\n",
    "        ducks.add(new DebugDuck(\"Duck A\", 4.5));\n",
    "        ducks.add(new DebugDuck(\"Duck B\", 2.1));\n",
    "        ducks.add(new DebugDuck(\"Duck C\", 5.0));\n",
    "        ducks.add(new DebugDuck(\"Duck D\", 1.9));\n",
    "\n",
    "        // Display the list of ducks before sorting\n",
    "        System.out.println(\"List of Ducks Before Sorting:\");\n",
    "        for (DebugDuck duck : ducks) {\n",
    "            System.out.println(duck);\n",
    "        }\n",
    "\n",
    "        // Sort the ducks by their weight using the selection sort method\n",
    "        sortDucksByWeight(ducks);\n",
    "        System.out.println(\"\\nList of Ducks After Sorting by Weight:\");\n",
    "        for (DebugDuck duck : ducks) {\n",
    "            System.out.println(duck);\n",
    "        }\n",
    "    }\n",
    "}\n",
    "DuckSorter.main(null);\n"
   ]
  },
  {
   "cell_type": "markdown",
   "metadata": {},
   "source": [
    "Mini Hack:\n",
    "What can be used in place of the blank to ensure the users data is cleared?"
   ]
  },
  {
   "cell_type": "code",
   "execution_count": null,
   "metadata": {
    "vscode": {
     "languageId": "java"
    }
   },
   "outputs": [],
   "source": [
    "ArrayList<String> userData = new ArrayList<>();\n",
    "userData.add(\"John Doe\");\n",
    "userData.add(\"john@example.com\");\n",
    "\n",
    "// Once you're done using the data\n",
    "userData.clear();  // Removes all entries from the list\n",
    "userData = null;   // Removes the reference to the ArrayList"
   ]
  },
  {
   "cell_type": "markdown",
   "metadata": {
    "vscode": {
     "languageId": "java"
    }
   },
   "source": [
    "HOMEWORK PARTS"
   ]
  },
  {
   "cell_type": "markdown",
   "metadata": {},
   "source": [
    "ArrayList Coding Activity\n",
    "Objective:\n",
    "Students will create, manipulate, and sort an ArrayList of integers.\n",
    "\n",
    "Activity Outline:\n",
    "1 Create an ArrayList:\n",
    "\n",
    "Task: Create an ArrayList of integers and add 5 elements of your choice.\n",
    "Hint: Use the ArrayList class and the .add() method to add elements."
   ]
  },
  {
   "cell_type": "code",
   "execution_count": null,
   "metadata": {
    "vscode": {
     "languageId": "java"
    }
   },
   "outputs": [],
   "source": [
    "import java.util.ArrayList;\n",
    "\n",
    "public class ArrayListActivityStrings {\n",
    "    public static void main(String[] args) {\n",
    "        // Step 1: Create an ArrayList of Strings\n",
    "        ArrayList<String> names = new ArrayList<>();\n",
    "        \n",
    "        // Add 5 names to the ArrayList\n",
    "        names.add(\"Alice\");\n",
    "        names.add(\"Bob\");\n",
    "        names.add(\"Charlie\");\n",
    "        names.add(\"David\");\n",
    "        names.add(\"Eve\");\n",
    "\n",
    "        // Print the initial ArrayList\n",
    "        System.out.println(\"Initial ArrayList: \" + names);\n",
    "    }\n",
    "}\n"
   ]
  },
  {
   "cell_type": "markdown",
   "metadata": {
    "vscode": {
     "languageId": "java"
    }
   },
   "source": [
    "2 Modify an Element:\n",
    "\n",
    "Task: Change the second element (index 1) of the ArrayList to a new value (e.g., 100).\n",
    "Hint: The .set() method allows you to update an element at a specific index."
   ]
  },
  {
   "cell_type": "code",
   "execution_count": null,
   "metadata": {
    "vscode": {
     "languageId": "java"
    }
   },
   "outputs": [],
   "source": [
    "import java.util.ArrayList;\n",
    "\n",
    "public class ModifyStringElement {\n",
    "    public static void main(String[] args) {\n",
    "        ArrayList<String> names = new ArrayList<>();\n",
    "        names.add(\"Alice\");\n",
    "        names.add(\"Bob\");\n",
    "        names.add(\"Charlie\");\n",
    "        names.add(\"David\");\n",
    "        names.add(\"Eve\");\n",
    "\n",
    "        // Step 2: Modify the second element (index 1)\n",
    "        names.set(1, \"Zara\");  // Changes the element at index 1 to \"Zara\"\n",
    "\n",
    "        // Print the ArrayList after modification\n",
    "        System.out.println(\"ArrayList after modification: \" + names);\n",
    "    }\n",
    "}\n"
   ]
  },
  {
   "cell_type": "markdown",
   "metadata": {
    "vscode": {
     "languageId": "java"
    }
   },
   "source": [
    "3 Remove an Element:\n",
    "\n",
    "Task: Remove the third element (index 2) from the ArrayList.\n",
    "Hint: Use the .remove() method to delete an element by its index."
   ]
  },
  {
   "cell_type": "code",
   "execution_count": null,
   "metadata": {
    "vscode": {
     "languageId": "java"
    }
   },
   "outputs": [],
   "source": [
    "import java.util.ArrayList;\n",
    "\n",
    "public class RemoveStringElement {\n",
    "    public static void main(String[] args) {\n",
    "        ArrayList<String> names = new ArrayList<>();\n",
    "        names.add(\"Alice\");\n",
    "        names.add(\"Zara\");\n",
    "        names.add(\"Charlie\");\n",
    "        names.add(\"David\");\n",
    "        names.add(\"Eve\");\n",
    "\n",
    "        // Step 3: Remove the element at index 2\n",
    "        names.remove(2);  // Removes the element at index 2 (\"Charlie\")\n",
    "\n",
    "        // Print the ArrayList after removal\n",
    "        System.out.println(\"ArrayList after removing index 2: \" + names);\n",
    "    }\n",
    "}\n"
   ]
  },
  {
   "cell_type": "markdown",
   "metadata": {},
   "source": [
    "4 Search for an Element:\n",
    "\n",
    "Task: Check if a specific number (e.g., 30) is in the ArrayList and print a message based on whether it is found or not.\n",
    "Hint: The .contains() method can be used to check for the presence of an element"
   ]
  },
  {
   "cell_type": "code",
   "execution_count": null,
   "metadata": {
    "vscode": {
     "languageId": "java"
    }
   },
   "outputs": [],
   "source": [
    "import java.util.ArrayList;\n",
    "\n",
    "public class SearchStringElement {\n",
    "    public static void main(String[] args) {\n",
    "        ArrayList<String> names = new ArrayList<>();\n",
    "        names.add(\"Alice\");\n",
    "        names.add(\"Zara\");\n",
    "        names.add(\"David\");\n",
    "        names.add(\"Eve\");\n",
    "\n",
    "        // Step 4: Search for a specific element (\"David\")\n",
    "        if (names.contains(\"David\")) {\n",
    "            System.out.println(\"The name 'David' is present in the ArrayList.\");\n",
    "        } else {\n",
    "            System.out.println(\"The name 'David' is not present in the ArrayList.\");\n",
    "        }\n",
    "    }\n",
    "}\n"
   ]
  },
  {
   "cell_type": "markdown",
   "metadata": {
    "vscode": {
     "languageId": "java"
    }
   },
   "source": [
    "5 Loop Through the ArrayList:\n",
    "\n",
    "Task: Use a for loop to print each element of the ArrayList.\n",
    "Hint: You can use a traditional for loop or an enhanced for loop (for-each) to iterate through the elements."
   ]
  },
  {
   "cell_type": "code",
   "execution_count": null,
   "metadata": {
    "vscode": {
     "languageId": "java"
    }
   },
   "outputs": [],
   "source": [
    "import java.util.ArrayList;\n",
    "\n",
    "public class LoopThroughStringArrayList {\n",
    "    public static void main(String[] args) {\n",
    "        ArrayList<String> names = new ArrayList<>();\n",
    "        names.add(\"Alice\");\n",
    "        names.add(\"Zara\");\n",
    "        names.add(\"David\");\n",
    "        names.add(\"Eve\");\n",
    "\n",
    "        // Step 5: Loop through the ArrayList using a for-each loop\n",
    "        System.out.println(\"Looping through the ArrayList:\");\n",
    "        for (String name : names) {\n",
    "            System.out.println(name);\n",
    "        }\n",
    "    }\n",
    "}\n"
   ]
  },
  {
   "cell_type": "markdown",
   "metadata": {},
   "source": [
    "6 Sort the ArrayList:\n",
    "\n",
    "Task: Sort the ArrayList in ascending order.\n",
    "Hint: Use Collections.sort() to sort the ArrayList."
   ]
  },
  {
   "cell_type": "code",
   "execution_count": null,
   "metadata": {
    "vscode": {
     "languageId": "java"
    }
   },
   "outputs": [],
   "source": [
    "import java.util.ArrayList;\n",
    "import java.util.Collections;  // Import Collections for sorting\n",
    "\n",
    "public class SortStringArrayList {\n",
    "    public static void main(String[] args) {\n",
    "        ArrayList<String> names = new ArrayList<>();\n",
    "        names.add(\"Eve\");\n",
    "        names.add(\"Alice\");\n",
    "        names.add(\"Zara\");\n",
    "        names.add(\"David\");\n",
    "\n",
    "        // Step 6: Sort the ArrayList in ascending order\n",
    "        Collections.sort(names);\n",
    "\n",
    "        // Print the sorted ArrayList\n",
    "        System.out.println(\"ArrayList after sorting: \" + names);\n",
    "    }\n",
    "}\n"
   ]
  },
  {
   "cell_type": "markdown",
   "metadata": {},
   "source": [
    "7 Print the Sorted ArrayList:\n",
    "\n",
    "Task: Print the sorted ArrayList to see the updated order of the elements.\n",
    "Hint: Use System.out.println() to print the sorted list."
   ]
  },
  {
   "cell_type": "code",
   "execution_count": null,
   "metadata": {
    "vscode": {
     "languageId": "java"
    }
   },
   "outputs": [],
   "source": [
    "import java.util.ArrayList;\n",
    "import java.util.Collections;\n",
    "\n",
    "public class PrintSortedStringArrayList {\n",
    "    public static void main(String[] args) {\n",
    "        ArrayList<String> names = new ArrayList<>();\n",
    "        names.add(\"Eve\");\n",
    "        names.add(\"Alice\");\n",
    "        names.add(\"Zara\");\n",
    "        names.add(\"David\");\n",
    "\n",
    "        // Step 7: Sort the ArrayList in ascending order\n",
    "        Collections.sort(names);\n",
    "\n",
    "        // Print the sorted ArrayList\n",
    "        System.out.println(\"Sorted ArrayList: \" + names);\n",
    "    }\n",
    "}\n"
   ]
  },
  {
   "cell_type": "markdown",
   "metadata": {},
   "source": [
    "EXTRA ARRAYLIST HACK I MADE A GAME"
   ]
  },
  {
   "cell_type": "code",
   "execution_count": 2,
   "metadata": {
    "vscode": {
     "languageId": "java"
    }
   },
   "outputs": [
    {
     "name": "stdout",
     "output_type": "stream",
     "text": [
      "Welcome to the ArrayList Management Game!\n",
      "You can manage a list of names with various operations.\n",
      "--------------------------------------------------------\n",
      "\n",
      "Choose an operation:\n",
      "1. Add a name\n",
      "2. Modify a name\n",
      "3. Remove a name\n",
      "4. Search for a name\n",
      "5. Display the list of names\n",
      "6. Sort the list alphabetically\n",
      "7. Exit the game\n",
      "Enter your choice (1-7): The list is empty! Nothing to modify.\n",
      "\n",
      "Choose an operation:\n",
      "1. Add a name\n",
      "2. Modify a name\n",
      "3. Remove a name\n",
      "4. Search for a name\n",
      "5. Display the list of names\n",
      "6. Sort the list alphabetically\n",
      "7. Exit the game\n",
      "Enter your choice (1-7): Enter the name to add: Srini has been added to the list.\n",
      "\n",
      "Choose an operation:\n",
      "1. Add a name\n",
      "2. Modify a name\n",
      "3. Remove a name\n",
      "4. Search for a name\n",
      "5. Display the list of names\n",
      "6. Sort the list alphabetically\n",
      "7. Exit the game\n",
      "Enter your choice (1-7): Current List of Names: [Srini]\n",
      "\n",
      "Choose an operation:\n",
      "1. Add a name\n",
      "2. Modify a name\n",
      "3. Remove a name\n",
      "4. Search for a name\n",
      "5. Display the list of names\n",
      "6. Sort the list alphabetically\n",
      "7. Exit the game\n",
      "Enter your choice (1-7): Current List of Names: [Srini]\n",
      "\n",
      "Choose an operation:\n",
      "1. Add a name\n",
      "2. Modify a name\n",
      "3. Remove a name\n",
      "4. Search for a name\n",
      "5. Display the list of names\n",
      "6. Sort the list alphabetically\n",
      "7. Exit the game\n",
      "Enter your choice (1-7): Current List of Names: [Srini]\n",
      "\n",
      "Choose an operation:\n",
      "1. Add a name\n",
      "2. Modify a name\n",
      "3. Remove a name\n",
      "4. Search for a name\n",
      "5. Display the list of names\n",
      "6. Sort the list alphabetically\n",
      "7. Exit the game\n",
      "Enter your choice (1-7): Current List: [Srini]\n",
      "Enter the index (0 to 0) of the name you want to remove: Invalid index! Please try again.\n",
      "\n",
      "Choose an operation:\n",
      "1. Add a name\n",
      "2. Modify a name\n",
      "3. Remove a name\n",
      "4. Search for a name\n",
      "5. Display the list of names\n",
      "6. Sort the list alphabetically\n",
      "7. Exit the game\n",
      "Enter your choice (1-7): Thank you for playing! Goodbye!\n"
     ]
    }
   ],
   "source": [
    "import java.util.ArrayList;\n",
    "import java.util.Collections;\n",
    "import java.util.Scanner;\n",
    "\n",
    "public class InteractiveArrayListGame {\n",
    "    public static void main(String[] args) {\n",
    "        ArrayList<String> names = new ArrayList<>();\n",
    "        Scanner scanner = new Scanner(System.in);\n",
    "        boolean continueGame = true;\n",
    "\n",
    "        // Display game instructions\n",
    "        System.out.println(\"Welcome to the ArrayList Management Game!\");\n",
    "        System.out.println(\"You can manage a list of names with various operations.\");\n",
    "        System.out.println(\"--------------------------------------------------------\");\n",
    "\n",
    "        // Game loop\n",
    "        while (continueGame) {\n",
    "            // Display menu options\n",
    "            System.out.println(\"\\nChoose an operation:\");\n",
    "            System.out.println(\"1. Add a name\");\n",
    "            System.out.println(\"2. Modify a name\");\n",
    "            System.out.println(\"3. Remove a name\");\n",
    "            System.out.println(\"4. Search for a name\");\n",
    "            System.out.println(\"5. Display the list of names\");\n",
    "            System.out.println(\"6. Sort the list alphabetically\");\n",
    "            System.out.println(\"7. Exit the game\");\n",
    "\n",
    "            // Get user choice\n",
    "            System.out.print(\"Enter your choice (1-7): \");\n",
    "            int choice = scanner.nextInt();\n",
    "            scanner.nextLine();  // Consume the newline character\n",
    "\n",
    "            switch (choice) {\n",
    "                case 1:\n",
    "                    // Add a new name\n",
    "                    System.out.print(\"Enter the name to add: \");\n",
    "                    String nameToAdd = scanner.nextLine();\n",
    "                    names.add(nameToAdd);\n",
    "                    System.out.println(nameToAdd + \" has been added to the list.\");\n",
    "                    break;\n",
    "\n",
    "                case 2:\n",
    "                    // Modify an existing name\n",
    "                    if (names.isEmpty()) {\n",
    "                        System.out.println(\"The list is empty! Nothing to modify.\");\n",
    "                    } else {\n",
    "                        System.out.println(\"Current List: \" + names);\n",
    "                        System.out.print(\"Enter the index (0 to \" + (names.size() - 1) + \") of the name you want to modify: \");\n",
    "                        int indexToModify = scanner.nextInt();\n",
    "                        scanner.nextLine();  // Consume the newline character\n",
    "\n",
    "                        if (indexToModify >= 0 && indexToModify < names.size()) {\n",
    "                            System.out.print(\"Enter the new name: \");\n",
    "                            String newName = scanner.nextLine();\n",
    "                            names.set(indexToModify, newName);\n",
    "                            System.out.println(\"Name at index \" + indexToModify + \" has been changed to \" + newName + \".\");\n",
    "                        } else {\n",
    "                            System.out.println(\"Invalid index! Please try again.\");\n",
    "                        }\n",
    "                    }\n",
    "                    break;\n",
    "\n",
    "                case 3:\n",
    "                    // Remove a name\n",
    "                    if (names.isEmpty()) {\n",
    "                        System.out.println(\"The list is empty! Nothing to remove.\");\n",
    "                    } else {\n",
    "                        System.out.println(\"Current List: \" + names);\n",
    "                        System.out.print(\"Enter the index (0 to \" + (names.size() - 1) + \") of the name you want to remove: \");\n",
    "                        int indexToRemove = scanner.nextInt();\n",
    "                        scanner.nextLine();  // Consume the newline character\n",
    "\n",
    "                        if (indexToRemove >= 0 && indexToRemove < names.size()) {\n",
    "                            String removedName = names.remove(indexToRemove);\n",
    "                            System.out.println(\"Name \" + removedName + \" has been removed from the list.\");\n",
    "                        } else {\n",
    "                            System.out.println(\"Invalid index! Please try again.\");\n",
    "                        }\n",
    "                    }\n",
    "                    break;\n",
    "\n",
    "                case 4:\n",
    "                    // Search for a name\n",
    "                    System.out.print(\"Enter the name to search for: \");\n",
    "                    String nameToSearch = scanner.nextLine();\n",
    "                    if (names.contains(nameToSearch)) {\n",
    "                        System.out.println(\"The name '\" + nameToSearch + \"' is present in the list.\");\n",
    "                    } else {\n",
    "                        System.out.println(\"The name '\" + nameToSearch + \"' is not found in the list.\");\n",
    "                    }\n",
    "                    break;\n",
    "\n",
    "                case 5:\n",
    "                    // Display the list of names\n",
    "                    if (names.isEmpty()) {\n",
    "                        System.out.println(\"The list is currently empty.\");\n",
    "                    } else {\n",
    "                        System.out.println(\"Current List of Names: \" + names);\n",
    "                    }\n",
    "                    break;\n",
    "\n",
    "                case 6:\n",
    "                    if (names.isEmpty()) {\n",
    "                        System.out.println(\"The list is empty! Nothing to sort.\");\n",
    "                    } else {\n",
    "                        Collections.sort(names);\n",
    "                        System.out.println(\"The list has been sorted alphabetically.\");\n",
    "                    }\n",
    "                    break;\n",
    "\n",
    "                case 7:\n",
    "                    System.out.println(\"Thank you for playing! Goodbye!\");\n",
    "                    continueGame = false;\n",
    "                    break;\n",
    "\n",
    "                default:\n",
    "                    System.out.println(\"Invalid choice! Please select a number between 1 and 7.\");\n",
    "            }\n",
    "        }\n",
    "\n",
    "        scanner.close();\n",
    "    }\n",
    "}\n",
    "InteractiveArrayListGame.main(null);"
   ]
  }
 ],
 "metadata": {
  "kernelspec": {
   "display_name": "Java",
   "language": "java",
   "name": "java"
  },
  "language_info": {
   "codemirror_mode": "java",
   "file_extension": ".jshell",
   "mimetype": "text/x-java-source",
   "name": "Java",
   "pygments_lexer": "java",
   "version": "17.0.12+7-Ubuntu-1ubuntu222.04"
  }
 },
 "nbformat": 4,
 "nbformat_minor": 2
}
