{
 "cells": [
  {
   "cell_type": "markdown",
   "metadata": {},
   "source": [
    "---\n",
    "layout: post\n",
    "title: PrefixHW\n",
    "type: ccc \n",
    "toc: false\n",
    "courses: {csa: {week: 19}}\n",
    "comments: true\n",
    "---"
   ]
  },
  {
   "cell_type": "code",
   "execution_count": 12,
   "metadata": {
    "vscode": {
     "languageId": "java"
    }
   },
   "outputs": [
    {
     "name": "stdout",
     "output_type": "stream",
     "text": [
      "Postfix: 6 3 * 4 +\n",
      "Infix:   ((6 * 3) + 4)\n",
      "\n",
      "Postfix: 10 2 8 * + 3 -\n",
      "Infix:   ((10 + (2 * 8)) - 3)\n",
      "\n",
      "Postfix: 15 3 / 4 2 * +\n",
      "Infix:   ((15 / 3) + (4 * 2))\n",
      "\n",
      "Postfix: 7 3 2 * + 5 -\n",
      "Infix:   ((7 + (3 * 2)) - 5)\n",
      "\n",
      "Postfix: 9 3 + 2 ^\n",
      "Infix:   ((9 + 3) ^ 2)\n",
      "\n"
     ]
    }
   ],
   "source": [
    "import java.util.Stack;\n",
    "\n",
    "public class Prefix {\n",
    "\n",
    "    public static String convert(String postfixExpr) {\n",
    "        Stack<String> infixStack = new Stack<>();\n",
    "        String[] elements = postfixExpr.trim().split(\" \");\n",
    "\n",
    "        for (String element : elements) {\n",
    "            if (isOp(element)) {\n",
    "                String right = infixStack.pop();\n",
    "                String left = infixStack.pop();\n",
    "                String combined = \"(\" + left + \" \" + element + \" \" + right + \")\";\n",
    "                infixStack.push(combined);\n",
    "            } else {\n",
    "                infixStack.push(element);\n",
    "            }\n",
    "        }\n",
    "\n",
    "        return infixStack.pop();\n",
    "    }\n",
    "\n",
    "    private static boolean isOp(String token) {\n",
    "        return \"+-*/^\".contains(token);\n",
    "    }\n",
    "\n",
    "    public static void main(String[] args) {\n",
    "        String[] examples = {\n",
    "            \"6 3 * 4 +\",\n",
    "            \"10 2 8 * + 3 -\",\n",
    "            \"15 3 / 4 2 * +\",\n",
    "            \"7 3 2 * + 5 -\",\n",
    "            \"9 3 + 2 ^\"\n",
    "        };\n",
    "\n",
    "        for (String expr : examples) {\n",
    "            System.out.println(\"Postfix: \" + expr);\n",
    "            System.out.println(\"Infix:   \" + convert(expr));\n",
    "            System.out.println();\n",
    "        }\n",
    "    }\n",
    "}\n",
    "Prefix.main(null);\n"
   ]
  },
  {
   "cell_type": "markdown",
   "metadata": {},
   "source": [
    "HOMEWORK"
   ]
  },
  {
   "cell_type": "code",
   "execution_count": null,
   "metadata": {
    "vscode": {
     "languageId": "java"
    }
   },
   "outputs": [],
   "source": [
    "import java.util.Stack;\n",
    "\n",
    "public class PrefixCalculator {\n",
    "\n",
    "    public static int evaluatePrefix(String expression) {\n",
    "        Stack<Integer> stack = new Stack<>();\n",
    "        String[] tokens = expression.split(\" \");\n",
    "\n",
    "        // Read from right to left\n",
    "        for (int i = tokens.length - 1; i >= 0; i--) {\n",
    "            String token = tokens[i];\n",
    "\n",
    "            if (isNumeric(token)) {\n",
    "                stack.push(Integer.parseInt(token));\n",
    "            } else {\n",
    "                int num1 = stack.pop();\n",
    "                int num2 = stack.pop();\n",
    "                int result = applyOperator(token, num1, num2);\n",
    "                stack.push(result);\n",
    "            }\n",
    "        }\n",
    "\n",
    "        return stack.pop();\n",
    "    }\n",
    "\n",
    "    private static boolean isNumeric(String str) {\n",
    "        return str.matches(\"-?\\\\d+\");\n",
    "    }\n",
    "\n",
    "    private static int applyOperator(String operator, int num1, int num2) {\n",
    "        return switch (operator) {\n",
    "            case \"+\" -> num1 + num2;\n",
    "            case \"-\" -> num1 - num2;\n",
    "            case \"*\" -> num1 * num2;\n",
    "            case \"/\" -> num1 / num2;\n",
    "            case \"^\" -> (int) Math.pow(num1, num2);\n",
    "            default -> throw new IllegalArgumentException(\"Invalid operator: \" + operator);\n",
    "        };\n",
    "    }\n",
    "}\n",
    "\n",
    "// ✅ Now run the evaluation directly in the same cell\n",
    "String expression = \"+ * 2 3 5\"; // (2 * 3) + 5 = 11\n",
    "int result = PrefixCalculator.evaluatePrefix(expression);\n",
    "System.out.println(\"Result: \" + result); // Output: 11\n"
   ]
  },
  {
   "cell_type": "raw",
   "metadata": {
    "vscode": {
     "languageId": "raw"
    }
   },
   "source": [
    "Prefix Expression: + * 2 3 5\n",
    "\n",
    "\n",
    "Evaluated Result: 11\n"
   ]
  }
 ],
 "metadata": {
  "kernelspec": {
   "display_name": "Java",
   "language": "java",
   "name": "java"
  },
  "language_info": {
   "codemirror_mode": "java",
   "file_extension": ".jshell",
   "mimetype": "text/x-java-source",
   "name": "Java",
   "pygments_lexer": "java",
   "version": "17.0.14+7-Ubuntu-122.04.1"
  }
 },
 "nbformat": 4,
 "nbformat_minor": 2
}
