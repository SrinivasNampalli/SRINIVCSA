{
 "cells": [
  {
   "cell_type": "markdown",
   "metadata": {},
   "source": [
    "---\n",
    "layout: post\n",
    "title: Data Type Game\n",
    "description:  Data Type  \n",
    "type: collab \n",
    "comments: true\n",
    "toc: false\n",
    "courses: {csa: {week: 1}}\n",
    "---"
   ]
  },
  {
   "cell_type": "code",
   "execution_count": 1,
   "metadata": {
    "vscode": {
     "languageId": "java"
    }
   },
   "outputs": [],
   "source": [
    "import java.util.ArrayList;\n",
    "\n",
    "public class MeanCalculator {\n",
    "\n",
    "    // Method to calculate mean of an ArrayList of numbers\n",
    "    public static double calculateMean(ArrayList<Number> data) {\n",
    "        // Check if the data is empty\n",
    "        if (data.isEmpty()) {\n",
    "            System.out.println(\"Data is empty.\");\n",
    "            return 0;\n",
    "        }\n",
    "\n",
    "        double sum = 0;\n",
    "        int count = 0;\n",
    "        \n",
    "        // Iterate over the data, ensuring they are numeric (since Number handles int, float, etc.)\n",
    "        for (Number num : data) {\n",
    "            if (num instanceof Integer || num instanceof Double || num instanceof Float) {\n",
    "                sum += num.doubleValue();  // Convert any numeric type to double for accurate mean calculation\n",
    "                count++;\n",
    "            } else {\n",
    "                System.out.println(\"Data contains non-numeric elements.\");\n",
    "                return 0;\n",
    "            }\n",
    "        }\n",
    "        \n",
    "        return sum / count;\n",
    "    }\n",
    "\n",
    "    public static void main(String[] args) {\n",
    "        // Example 1: Valid numeric data\n",
    "        ArrayList<Number> dataNumeric = new ArrayList<>();\n",
    "        dataNumeric.add(10);\n",
    "        dataNumeric.add(20);\n",
    "        dataNumeric.add(30);\n",
    "        dataNumeric.add(40);\n",
    "        dataNumeric.add(50);\n",
    "        System.out.println(\"Mean of numeric data: \" + calculateMean(dataNumeric));\n",
    "\n",
    "        // Example 2: Empty data list\n",
    "        ArrayList<Number> dataEmpty = new ArrayList<>();\n",
    "        System.out.println(\"Mean of empty data: \" + calculateMean(dataEmpty));\n",
    "\n",
    "        // Example 3: Mixed type (this won't happen in Java as strongly typed arrays prevent adding non-numeric values easily)\n",
    "        // But if we forcefully do it, it will result in a failure to process.\n",
    "        ArrayList<Number> dataMixed = new ArrayList<>();\n",
    "        dataMixed.add(10);\n",
    "        dataMixed.add(20);\n",
    "        dataMixed.add(30);\n",
    "        dataMixed.add(50.5);  // Adding a floating-point number\n",
    "        System.out.println(\"Mean of mixed data: \" + calculateMean(dataMixed));\n",
    "    }\n",
    "}\n"
   ]
  }
 ],
 "metadata": {
  "kernelspec": {
   "display_name": "Java",
   "language": "java",
   "name": "java"
  },
  "language_info": {
   "codemirror_mode": "java",
   "file_extension": ".jshell",
   "mimetype": "text/x-java-source",
   "name": "Java",
   "pygments_lexer": "java",
   "version": "17.0.12+7-Ubuntu-1ubuntu222.04"
  }
 },
 "nbformat": 4,
 "nbformat_minor": 2
}
