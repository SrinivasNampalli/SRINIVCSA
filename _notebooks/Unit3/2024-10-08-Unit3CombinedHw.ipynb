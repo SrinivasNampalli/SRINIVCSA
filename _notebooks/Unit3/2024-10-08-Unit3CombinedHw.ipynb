{
 "cells": [
  {
   "cell_type": "markdown",
   "metadata": {},
   "source": [
    "Popcorn Hack 1 CORRECTED CODE"
   ]
  },
  {
   "cell_type": "code",
   "execution_count": null,
   "metadata": {
    "vscode": {
     "languageId": "java"
    }
   },
   "outputs": [],
   "source": [
    "public class StringComparisonHack {\n",
    "    public static void main(String[] args) {\n",
    "        String myName = \"Alisha\";  // Correct way to initialize a string\n",
    "\n",
    "        // Use .equals() for string comparison\n",
    "        if (!myName.equals(\"Anika\")) {  // Correct way to compare inequality\n",
    "            System.out.println(\"myName is not Anika\");\n",
    "        }\n",
    "\n",
    "        if (myName.equals(\"Alisha\")) {  // Correct way to compare equality\n",
    "            System.out.println(\"myName is Alisha\");\n",
    "        }\n",
    "    }\n",
    "}\n"
   ]
  },
  {
   "cell_type": "markdown",
   "metadata": {},
   "source": [
    "The ineqality used to compare is incorrect and this code compeltely wrong"
   ]
  },
  {
   "cell_type": "markdown",
   "metadata": {
    "vscode": {
     "languageId": "java"
    }
   },
   "source": [
    "3.1 Homework Hack"
   ]
  },
  {
   "cell_type": "markdown",
   "metadata": {
    "vscode": {
     "languageId": "java"
    }
   },
   "source": [
    "The precondition for num is:\n",
    "\n",
    "The number of digits in num must be between 1 and 6, inclusive.\n",
    "num must be greater than or equal to 0 (num >= 0).\n",
    "Explanation:\n",
    "The first precondition ensures that the number has at least one digit and at most six digits.\n",
    "The second precondition ensures that num is a non-negative integer. This means the function should only accept positive integers and zero as inputs."
   ]
  },
  {
   "cell_type": "markdown",
   "metadata": {},
   "source": [
    "3.2 Homework Hack With addition TestCases"
   ]
  },
  {
   "cell_type": "code",
   "execution_count": 1,
   "metadata": {
    "vscode": {
     "languageId": "java"
    }
   },
   "outputs": [
    {
     "name": "stdout",
     "output_type": "stream",
     "text": [
      "Current age: 16\n",
      "On your next birthday, you will be 17 years old.\n",
      "\n",
      "Current age: 15\n",
      "On your next birthday, you will be 16 years old.\n",
      "\n",
      "Current age: 0\n",
      "On your next birthday, you will be 1 years old.\n",
      "\n",
      "Current age: -1\n",
      "On your next birthday, you will be 0 years old.\n"
     ]
    }
   ],
   "source": [
    "public class TestDriveEligibility {\n",
    "    public static void main(String[] args) {\n",
    "        // Test Case 1: Age is 16\n",
    "        int myAge = 16;\n",
    "        System.out.println(\"Current age: \" + myAge);\n",
    "        if (myAge > 16) {\n",
    "            System.out.println(\"You can start learning to drive!\");\n",
    "        }\n",
    "        System.out.println(\"On your next birthday, you will be \" + (myAge + 1) + \" years old.\");\n",
    "        \n",
    "        System.out.println();\n",
    "\n",
    "        // Test Case 2: Age is 15\n",
    "        myAge = 15;\n",
    "        System.out.println(\"Current age: \" + myAge);\n",
    "        if (myAge > 16) {\n",
    "            System.out.println(\"You can start learning to drive!\");\n",
    "        }\n",
    "        System.out.println(\"On your next birthday, you will be \" + (myAge + 1) + \" years old.\");\n",
    "\n",
    "        System.out.println();\n",
    "\n",
    "        // Test Case 3: Age is 0\n",
    "        myAge = 0;\n",
    "        System.out.println(\"Current age: \" + myAge);\n",
    "        if (myAge > 16) {\n",
    "            System.out.println(\"You can start learning to drive!\");\n",
    "        }\n",
    "        System.out.println(\"On your next birthday, you will be \" + (myAge + 1) + \" years old.\");\n",
    "\n",
    "        System.out.println();\n",
    "\n",
    "        // Test Case 4: Age is -1 (Edge case)\n",
    "        myAge = -1;\n",
    "        System.out.println(\"Current age: \" + myAge);\n",
    "        if (myAge > 16) {\n",
    "            System.out.println(\"You can start learning to drive!\");\n",
    "        }\n",
    "        System.out.println(\"On your next birthday, you will be \" + (myAge + 1) + \" years old.\");\n",
    "    }\n",
    "}\n",
    "TestDriveEligibility.main(null);"
   ]
  },
  {
   "cell_type": "markdown",
   "metadata": {},
   "source": [
    "3.3 Hack Question 1-2"
   ]
  },
  {
   "cell_type": "markdown",
   "metadata": {},
   "source": [
    "\"You are not old enough for a license yet.\"\n"
   ]
  },
  {
   "cell_type": "code",
   "execution_count": 2,
   "metadata": {
    "vscode": {
     "languageId": "java"
    }
   },
   "outputs": [
    {
     "name": "stdout",
     "output_type": "stream",
     "text": [
      "Current age: 17\n",
      "You are not eligible to vote yet.\n"
     ]
    }
   ],
   "source": [
    "public class VotingEligibility {\n",
    "    public static void main(String[] args) {\n",
    "        int myAge = 17;  // Change this value to test different cases\n",
    "        System.out.println(\"Current age: \" + myAge);\n",
    "\n",
    "        if (myAge >= 18) {\n",
    "            System.out.println(\"You are eligible to vote!\");\n",
    "        } else {\n",
    "            System.out.println(\"You are not eligible to vote yet.\");\n",
    "        }\n",
    "    }\n",
    "}\n",
    "VotingEligibility.main(null);"
   ]
  },
  {
   "cell_type": "markdown",
   "metadata": {},
   "source": [
    "3.4 Hacks "
   ]
  },
  {
   "cell_type": "markdown",
   "metadata": {},
   "source": [
    "Current age: 19\n",
    "You can register to vote.\n",
    "You are old enough for a license to drive.\n"
   ]
  },
  {
   "cell_type": "markdown",
   "metadata": {},
   "source": [
    "Current age: 13\n"
   ]
  },
  {
   "cell_type": "code",
   "execution_count": null,
   "metadata": {
    "vscode": {
     "languageId": "java"
    }
   },
   "outputs": [],
   "source": [
    "public class AgeCheck {\n",
    "    public static void main(String[] args) {\n",
    "        int myAge = 17;  // Change this value to test different ages\n",
    "        System.out.println(\"Current age: \" + myAge);\n",
    "\n",
    "        if (myAge >= 16) {\n",
    "            System.out.println(\"You are eligible for a driver's permit.\");\n",
    "        } else if (myAge >= 13 && myAge <= 19) {\n",
    "            System.out.println(\"You are a teenager.\");\n",
    "        } else {\n",
    "            System.out.println(\"You are neither a teenager nor eligible for a driver's permit.\");\n",
    "        }\n",
    "    }\n",
    "}\n"
   ]
  }
 ],
 "metadata": {
  "kernelspec": {
   "display_name": "Java",
   "language": "java",
   "name": "java"
  },
  "language_info": {
   "codemirror_mode": "java",
   "file_extension": ".jshell",
   "mimetype": "text/x-java-source",
   "name": "Java",
   "pygments_lexer": "java",
   "version": "17.0.12+7-Ubuntu-1ubuntu222.04"
  }
 },
 "nbformat": 4,
 "nbformat_minor": 2
}
