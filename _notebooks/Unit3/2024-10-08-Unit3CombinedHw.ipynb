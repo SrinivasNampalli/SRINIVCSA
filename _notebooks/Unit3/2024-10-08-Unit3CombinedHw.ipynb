{
 "cells": [
  {
   "cell_type": "markdown",
   "metadata": {},
   "source": [
    "---\n",
    "layout: post\n",
    "title: Unit 3 Self Study HW\n",
    "type: ccc \n",
    "toc: false\n",
    "courses: {csa: {week: 5}}\n",
    "---"
   ]
  },
  {
   "cell_type": "markdown",
   "metadata": {},
   "source": [
    "Popcorn Hack 1 CORRECTED CODE"
   ]
  },
  {
   "cell_type": "code",
   "execution_count": null,
   "metadata": {
    "vscode": {
     "languageId": "java"
    }
   },
   "outputs": [],
   "source": [
    "public class StringComparisonHack {\n",
    "    public static void main(String[] args) {\n",
    "        String myName = \"Alisha\";  // Correct way to initialize a string\n",
    "\n",
    "        // Use .equals() for string comparison\n",
    "        if (!myName.equals(\"Anika\")) {  // Correct way to compare inequality\n",
    "            System.out.println(\"myName is not Anika\");\n",
    "        }\n",
    "\n",
    "        if (myName.equals(\"Alisha\")) {  // Correct way to compare equality\n",
    "            System.out.println(\"myName is Alisha\");\n",
    "        }\n",
    "    }\n",
    "}\n"
   ]
  },
  {
   "cell_type": "markdown",
   "metadata": {},
   "source": [
    "The ineqality used to compare is incorrect and this code compeltely wrong"
   ]
  },
  {
   "cell_type": "markdown",
   "metadata": {
    "vscode": {
     "languageId": "java"
    }
   },
   "source": [
    "3.1 Homework Hack"
   ]
  },
  {
   "cell_type": "markdown",
   "metadata": {
    "vscode": {
     "languageId": "java"
    }
   },
   "source": [
    "The precondition for num is:\n",
    "\n",
    "The number of digits in num must be between 1 and 6, inclusive.\n",
    "num must be greater than or equal to 0 (num >= 0).\n",
    "Explanation:\n",
    "The first precondition ensures that the number has at least one digit and at most six digits.\n",
    "The second precondition ensures that num is a non-negative integer. This means the function should only accept positive integers and zero as inputs."
   ]
  },
  {
   "cell_type": "markdown",
   "metadata": {},
   "source": [
    "3.2 Homework Hack With addition TestCases"
   ]
  },
  {
   "cell_type": "code",
   "execution_count": 1,
   "metadata": {
    "vscode": {
     "languageId": "java"
    }
   },
   "outputs": [
    {
     "name": "stdout",
     "output_type": "stream",
     "text": [
      "Current age: 16\n",
      "On your next birthday, you will be 17 years old.\n",
      "\n",
      "Current age: 15\n",
      "On your next birthday, you will be 16 years old.\n",
      "\n",
      "Current age: 0\n",
      "On your next birthday, you will be 1 years old.\n",
      "\n",
      "Current age: -1\n",
      "On your next birthday, you will be 0 years old.\n"
     ]
    }
   ],
   "source": [
    "public class TestDriveEligibility {\n",
    "    public static void main(String[] args) {\n",
    "        // Test Case 1: Age is 16\n",
    "        int myAge = 16;\n",
    "        System.out.println(\"Current age: \" + myAge);\n",
    "        if (myAge > 16) {\n",
    "            System.out.println(\"You can start learning to drive!\");\n",
    "        }\n",
    "        System.out.println(\"On your next birthday, you will be \" + (myAge + 1) + \" years old.\");\n",
    "        \n",
    "        System.out.println();\n",
    "\n",
    "        // Test Case 2: Age is 15\n",
    "        myAge = 15;\n",
    "        System.out.println(\"Current age: \" + myAge);\n",
    "        if (myAge > 16) {\n",
    "            System.out.println(\"You can start learning to drive!\");\n",
    "        }\n",
    "        System.out.println(\"On your next birthday, you will be \" + (myAge + 1) + \" years old.\");\n",
    "\n",
    "        System.out.println();\n",
    "\n",
    "        // Test Case 3: Age is 0\n",
    "        myAge = 0;\n",
    "        System.out.println(\"Current age: \" + myAge);\n",
    "        if (myAge > 16) {\n",
    "            System.out.println(\"You can start learning to drive!\");\n",
    "        }\n",
    "        System.out.println(\"On your next birthday, you will be \" + (myAge + 1) + \" years old.\");\n",
    "\n",
    "        System.out.println();\n",
    "\n",
    "        // Test Case 4: Age is -1 (Edge case)\n",
    "        myAge = -1;\n",
    "        System.out.println(\"Current age: \" + myAge);\n",
    "        if (myAge > 16) {\n",
    "            System.out.println(\"You can start learning to drive!\");\n",
    "        }\n",
    "        System.out.println(\"On your next birthday, you will be \" + (myAge + 1) + \" years old.\");\n",
    "    }\n",
    "}\n",
    "TestDriveEligibility.main(null);"
   ]
  },
  {
   "cell_type": "markdown",
   "metadata": {},
   "source": [
    "3.3 Hack Question 1-2"
   ]
  },
  {
   "cell_type": "markdown",
   "metadata": {},
   "source": [
    "\"You are not old enough for a license yet.\"\n"
   ]
  },
  {
   "cell_type": "code",
   "execution_count": 2,
   "metadata": {
    "vscode": {
     "languageId": "java"
    }
   },
   "outputs": [
    {
     "name": "stdout",
     "output_type": "stream",
     "text": [
      "Current age: 17\n",
      "You are not eligible to vote yet.\n"
     ]
    }
   ],
   "source": [
    "public class VotingEligibility {\n",
    "    public static void main(String[] args) {\n",
    "        int myAge = 17;  // Change this value to test different cases\n",
    "        System.out.println(\"Current age: \" + myAge);\n",
    "\n",
    "        if (myAge >= 18) {\n",
    "            System.out.println(\"You are eligible to vote!\");\n",
    "        } else {\n",
    "            System.out.println(\"You are not eligible to vote yet.\");\n",
    "        }\n",
    "    }\n",
    "}\n",
    "VotingEligibility.main(null);"
   ]
  },
  {
   "cell_type": "markdown",
   "metadata": {},
   "source": [
    "3.4 Hacks "
   ]
  },
  {
   "cell_type": "markdown",
   "metadata": {},
   "source": [
    "Current age: 19\n",
    "You can register to vote.\n",
    "You are old enough for a license to drive.\n"
   ]
  },
  {
   "cell_type": "markdown",
   "metadata": {},
   "source": [
    "Current age: 13\n"
   ]
  },
  {
   "cell_type": "code",
   "execution_count": null,
   "metadata": {
    "vscode": {
     "languageId": "java"
    }
   },
   "outputs": [],
   "source": [
    "public class AgeCheck {\n",
    "    public static void main(String[] args) {\n",
    "        int myAge = 17;  // Change this value to test different ages\n",
    "        System.out.println(\"Current age: \" + myAge);\n",
    "\n",
    "        if (myAge >= 16) {\n",
    "            System.out.println(\"You are eligible for a driver's permit.\");\n",
    "        } else if (myAge >= 13 && myAge <= 19) {\n",
    "            System.out.println(\"You are a teenager.\");\n",
    "        } else {\n",
    "            System.out.println(\"You are neither a teenager nor eligible for a driver's permit.\");\n",
    "        }\n",
    "    }\n",
    "}\n"
   ]
  },
  {
   "cell_type": "markdown",
   "metadata": {},
   "source": [
    "3.5 Hacks 2 Popcorn Hacks"
   ]
  },
  {
   "cell_type": "markdown",
   "metadata": {
    "vscode": {
     "languageId": "java"
    }
   },
   "source": [
    "Purpose of the Algorithm\n",
    "The algorithm is designed to determine membership eligibility based on user inputs such as age, annual income, and student status. It evaluates the user's information against specific criteria to see if they qualify for one or more of the following:\n",
    "\n",
    "Basic Membership\n",
    "Premium Membership\n",
    "Student Discount\n",
    "Senior Discount\n",
    "If none of the conditions are met, the user is informed that they do not qualify for any memberships or discounts.\n",
    "\n",
    "Explanation of Each if Condition\n",
    "Basic Membership:\n",
    "\n",
    "javascript\n",
    "Copy code\n",
    "if (age >= 18 && income >= 20000) {\n",
    "This condition checks if the user is at least 18 years old and has an annual income of at least $20,000.\n",
    "If true, the user qualifies for Basic Membership.\n",
    "Premium Membership:\n",
    "\n",
    "javascript\n",
    "Copy code\n",
    "if (age >= 25 && income >= 50000) {\n",
    "This condition checks if the user is at least 25 years old and has an annual income of at least $50,000.\n",
    "If true, the user qualifies for Premium Membership.\n",
    "Student Discount:\n",
    "\n",
    "javascript\n",
    "Copy code\n",
    "if (isStudent) {\n",
    "This condition checks if the user is a student (determined by a 'yes' response to the student status prompt).\n",
    "If true, the user is eligible for a Student Discount.\n",
    "Senior Discount:\n",
    "\n",
    "javascript\n",
    "Copy code\n",
    "if (age >= 65) {\n",
    "This condition checks if the user is at least 65 years old.\n",
    "If true, the user qualifies for a Senior Discount.\n",
    "Default Message:\n",
    "\n",
    "javascript\n",
    "Copy code\n",
    "if (results.length === 0) {\n",
    "If none of the above conditions are satisfied, the results array remains empty.\n",
    "This condition adds a message indicating that the user does not qualify for any memberships or discounts.\n",
    "Given Input and Output\n",
    "Input:\n",
    "\n",
    "Age: 20\n",
    "Annual income: 1500\n",
    "Student status: Yes\n",
    "Output:\n",
    "\n",
    "arduino\n",
    "Copy code\n",
    "\"You are eligible for a Student Discount.\"\n",
    "Why?\n",
    "The user is 20 years old and earns only $1,500 annually, which disqualifies them from both Basic Membership and Premium Membership.\n",
    "The user is a student, which means they qualify for the Student Discount.\n",
    "The user does not qualify for the Senior Discount since they are not 65 or older.\n",
    "Full Output with Explanation:\n",
    "Basic Membership:\n",
    "\n",
    "Not eligible because income (1500) is less than 20000.\n",
    "Premium Membership:\n",
    "\n",
    "Not eligible because age (20) is less than 25 and income (1500) is less than 50000.\n",
    "Student Discount:\n",
    "\n",
    "Eligible because the isStudent condition is true (yes).\n",
    "Senior Discount:\n",
    "\n",
    "Not eligible because age (20) is less than 65.\n",
    "Final Output:\n",
    "\n",
    "The only message in results is:\n",
    "arduino\n",
    "Copy code\n",
    "\"You are eligible for a Student Discount.\""
   ]
  },
  {
   "cell_type": "markdown",
   "metadata": {
    "vscode": {
     "languageId": "java"
    }
   },
   "source": [
    "# Challenge Questions Solution\n",
    "\n",
    "## 1. What is \\((x \\, \\text{&&} \\, y)\\) equivalent to?\n",
    "To find the equivalent expression using **De Morgan’s Law**, recall that De Morgan’s Law states:\n",
    "\n",
    "\\[\n",
    "\\neg(p \\, \\text{&&} \\, q) \\equiv \\neg p \\, \\text{||} \\, \\neg q\n",
    "\\]\n",
    "\n",
    "- For the expression \\((x \\, \\text{&&} \\, y)\\), there is no negation directly applied to it, so the **negation** of this expression would be:\n",
    "\n",
    "\\[\n",
    "\\neg(x \\, \\text{&&} \\, y) \\equiv \\neg x \\, \\text{||} \\, \\neg y\n",
    "\\]\n",
    "\n",
    "Thus, the equivalent expression using De Morgan's Law would be to negate it as \\(\\neg x \\, \\text{||} \\, \\neg y\\).\n",
    "\n",
    "## 2. Negate the expression \\((x < 5 \\, \\text{||} \\, x > 10)\\)\n",
    "Using De Morgan’s Law, we need to find the equivalent of the **negation** of this expression:\n",
    "\n",
    "\\[\n",
    "\\neg(x < 5 \\, \\text{||} \\, x > 10) \\equiv (\\neg(x < 5) \\, \\text{&&} \\, \\neg(x > 10))\n",
    "\\]\n",
    "\n",
    "Simplifying each part:\n",
    "- \\(\\neg(x < 5)\\) becomes \\(x \\geq 5\\)\n",
    "- \\(\\neg(x > 10)\\) becomes \\(x \\leq 10\\)\n",
    "\n",
    "Thus, the final equivalent expression is:\n",
    "\n",
    "\\[\n",
    "x \\geq 5 \\, \\text{&&} \\, x \\leq 10\n",
    "\\]\n",
    "\n",
    "---\n",
    "\n",
    "# Truth Table Analysis\n",
    "\n",
    "Below is a detailed truth table for the expressions mentioned using the variables `p` and `q`:\n",
    "\n",
    "| **p** | **q** | **\\(p || q\\)** | **\\(p || q && p\\)** | **\\((p || q) || p\\)** | **\\(p && (p || q)\\)** |\n",
    "|-------|-------|----------------|--------------------|----------------------|----------------------|\n",
    "| T     | T     | T              | T                  | T                    | T                    |\n",
    "| T     | F     | T              | T                  | T                    | T                    |\n",
    "| F     | T     | T              | F                  | T                    | F                    |\n",
    "| F     | F     | F              | F                  | F                    | F                    |\n",
    "\n",
    "---\n",
    "\n",
    "# Explanation of Each Column\n",
    "\n",
    "1. **\\(p || q\\)**:\n",
    "   - This column evaluates the **OR** operation between `p` and `q`. It returns `True` if at least one of `p` or `q` is `True`.\n",
    "\n",
    "2. **\\(p || q && p\\)**:\n",
    "   - This column evaluates **AND** operation first (`q && p`), then **OR** with `p`.\n",
    "   - The result is `True` if `p` is `True` or if both `p` and `q` are `True`.\n",
    "\n",
    "3. **\\((p || q) || p\\)**:\n",
    "   - This column evaluates **OR** operation between `p` and `q`, then takes the result and **OR**s it with `p`.\n",
    "   - The result is always `True` if either `p` or `q` is `True`.\n",
    "\n",
    "4. **\\(p && (p || q)\\)**:\n",
    "   - This column evaluates **OR** operation first between `p` and `q`, then **AND**s the result with `p`.\n",
    "   - The result is `True` only when `p` is `True`.\n",
    "\n",
    "---\n",
    "\n",
    "# Key Points\n",
    "- The **order of operations** (AND vs. OR) significantly changes the results.\n",
    "- De Morgan’s Law helps convert expressions into equivalent forms by transforming `AND` into `OR` and vice versa, while negating each variable.\n",
    "\n"
   ]
  },
  {
   "cell_type": "markdown",
   "metadata": {},
   "source": [
    "3.7 Hacks"
   ]
  },
  {
   "cell_type": "markdown",
   "metadata": {},
   "source": [
    "# Solution: Are Sharon’s House and My House the Same?\n",
    "\n",
    "Let's analyze the provided code and evaluate if the statement `myHouse.equals(sharonsHouse)` will return `true` or `false`.\n",
    "\n",
    "## Code Breakdown\n",
    "### 1. House Class\n",
    "- This class has two private attributes: `color` and `size`.\n",
    "- A custom `equals()` method is implemented to **compare House objects by content**, instead of reference.\n",
    "- The `equals()` method:\n",
    "  - **Checks if the object references are the same** using `this == obj`. If true, it returns `true`.\n",
    "  - **Checks if the object is `null`** or of a **different class**. If true, it returns `false`.\n",
    "  - **Casts the object** to a `House` and **compares the `size` and `color`** attributes using `.equals()`.\n",
    "\n",
    "### 2. Main Class\n",
    "- Three `House` objects are created:\n",
    "  1. **`myHouse`**: `\"green\"` color and size `150`.\n",
    "  2. **`amkasHouse`**: `\"green\"` color and size `150`.\n",
    "  3. **`sharonsHouse`**: `\"green\"` color and size `150`.\n",
    "- The program calls the `equals()` method:\n",
    "  ```java\n",
    "  System.out.println(myHouse.equals(sharonsHouse)); // Should return true\n",
    "\n",
    "\n",
    "### final output \n",
    "true\n"
   ]
  },
  {
   "cell_type": "markdown",
   "metadata": {
    "vscode": {
     "languageId": "java"
    }
   },
   "source": [
    "3.8 HW HACKS"
   ]
  },
  {
   "cell_type": "code",
   "execution_count": null,
   "metadata": {
    "vscode": {
     "languageId": "java"
    }
   },
   "outputs": [],
   "source": [
    "## Java Implementation:\n",
    "```java\n",
    "import java.util.Scanner;\n",
    "\n",
    "public class PrimeClubMembership {\n",
    "    public static void main(String[] args) {\n",
    "        Scanner input = new Scanner(System.in);\n",
    "\n",
    "        // Get user inputs\n",
    "        System.out.print(\"Enter your age: \");\n",
    "        int age = input.nextInt();\n",
    "\n",
    "        System.out.print(\"Enter your annual income: \");\n",
    "        double income = input.nextDouble();\n",
    "        input.nextLine();  // Consume newline\n",
    "\n",
    "        System.out.print(\"Are you a student? (yes/no): \");\n",
    "        String studentStatus = input.nextLine().trim().toLowerCase();\n",
    "\n",
    "        System.out.print(\"Employment type (full-time, part-time, unemployed): \");\n",
    "        String employmentType = input.nextLine().trim().toLowerCase();\n",
    "\n",
    "        // Store eligible memberships\n",
    "        StringBuilder memberships = new StringBuilder();\n",
    "\n",
    "        // Check for Basic Membership\n",
    "        if (age >= 18 && income >= 20000) {\n",
    "            memberships.append(\"Basic Membership\\n\");\n",
    "        }\n",
    "\n",
    "        // Check for Premium Membership\n",
    "        if (age >= 25 && income >= 50000) {\n",
    "            memberships.append(\"Premium Membership\\n\");\n",
    "        }\n",
    "\n",
    "        // Check for Student Discount\n",
    "        if (studentStatus.equals(\"yes\")) {\n",
    "            memberships.append(\"Student Discount\\n\");\n",
    "        }\n",
    "\n",
    "        // Check for Senior Discount\n",
    "        if (age >= 65) {\n",
    "            memberships.append(\"Senior Discount\\n\");\n",
    "        }\n",
    "\n",
    "        // Print eligible memberships or no eligibility message\n",
    "        if (memberships.length() > 0) {\n",
    "            System.out.println(\"You qualify for the following memberships or discounts:\");\n",
    "            System.out.println(memberships.toString());\n",
    "\n",
    "            // Additional Challenge: Recommend the Best Membership\n",
    "            if (age >= 25 && income >= 50000) {\n",
    "                System.out.println(\"Best Membership Recommendation: Premium Membership\");\n",
    "            } else if (age >= 65) {\n",
    "                System.out.println(\"Best Membership Recommendation: Senior Discount\");\n",
    "            } else if (studentStatus.equals(\"yes\")) {\n",
    "                System.out.println(\"Best Membership Recommendation: Student Discount\");\n",
    "            } else if (age >= 18 && income >= 20000) {\n",
    "                System.out.println(\"Best Membership Recommendation: Basic Membership\");\n",
    "            }\n",
    "        } else {\n",
    "            System.out.println(\"You do not qualify for any memberships or discounts.\");\n",
    "        }\n",
    "\n",
    "        input.close();  // Close the scanner\n",
    "    }\n",
    "}"
   ]
  },
  {
   "cell_type": "markdown",
   "metadata": {},
   "source": [
    "EXTRA HACK I MADE"
   ]
  },
  {
   "cell_type": "code",
   "execution_count": null,
   "metadata": {
    "vscode": {
     "languageId": "java"
    }
   },
   "outputs": [],
   "source": []
  }
 ],
 "metadata": {
  "kernelspec": {
   "display_name": "Java",
   "language": "java",
   "name": "java"
  },
  "language_info": {
   "codemirror_mode": "java",
   "file_extension": ".jshell",
   "mimetype": "text/x-java-source",
   "name": "Java",
   "pygments_lexer": "java",
   "version": "17.0.12+7-Ubuntu-1ubuntu222.04"
  }
 },
 "nbformat": 4,
 "nbformat_minor": 2
}
