{
 "cells": [
  {
   "cell_type": "markdown",
   "metadata": {},
   "source": [
    "---\n",
    "layout: post\n",
    "title: Unit 2 Popcorn Hacks\n",
    "type: ccc \n",
    "toc: false\n",
    "courses: {csa: {week: 4}}\n",
    "--- "
   ]
  },
  {
   "cell_type": "markdown",
   "metadata": {},
   "source": [
    "The option is correct since it doesnt have a return type on it. FRIST OPTION"
   ]
  },
  {
   "cell_type": "code",
   "execution_count": 3,
   "metadata": {
    "vscode": {
     "languageId": "java"
    }
   },
   "outputs": [],
   "source": [
    "public class Movie {\n",
    "    public String movie;\n",
    "\n",
    "    public Movie(String movie) {\n",
    "        this.movie = movie;\n",
    "    }\n",
    "\n",
    "    public void printTitle() {\n",
    "        System.out.println(\"Movie Title: \" + this.movie);\n",
    "    }\n",
    "\n",
    "    public static void main(String[] args) {\n",
    "        Movie myfav = new Movie(\"Inception\");\n",
    "        myfav.printTitle();\n",
    "    }\n",
    "}\n"
   ]
  },
  {
   "cell_type": "code",
   "execution_count": null,
   "metadata": {
    "vscode": {
     "languageId": "java"
    }
   },
   "outputs": [],
   "source": []
  }
 ],
 "metadata": {
  "kernelspec": {
   "display_name": "Java",
   "language": "java",
   "name": "java"
  },
  "language_info": {
   "codemirror_mode": "java",
   "file_extension": ".jshell",
   "mimetype": "text/x-java-source",
   "name": "Java",
   "pygments_lexer": "java",
   "version": "17.0.12+7-Ubuntu-1ubuntu222.04"
  }
 },
 "nbformat": 4,
 "nbformat_minor": 2
}
