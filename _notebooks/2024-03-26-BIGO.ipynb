{
 "cells": [
  {
   "cell_type": "markdown",
   "metadata": {},
   "source": [
    "---\n",
    "layout: post\n",
    "title: BiGO\n",
    "type: ccc \n",
    "toc: false\n",
    "courses: {csa: {week: 21}}\n",
    "comments: true\n",
    "---"
   ]
  },
  {
   "cell_type": "code",
   "execution_count": null,
   "metadata": {
    "vscode": {
     "languageId": "java"
    }
   },
   "outputs": [
    {
     "name": "stdout",
     "output_type": "stream",
     "text": [
      "Original Array:\n",
      "29 10 14 37 13 \n",
      "Sorted in Descending Order:\n",
      "37 29 14 13 10 \n"
     ]
    }
   ],
   "source": [
    "public class SelectionSortDescending {\n",
    "    public static void selectionSortDescending(int[] arr) {\n",
    "        int n = arr.length;\n",
    "        for (int i = 0; i < n - 1; i++) {\n",
    "            int maxIndex = i;c d\n",
    "            for (int j = i + 1; j < n; j++) {\n",
    "                if (arr[j] > arr[maxIndex]) {\n",
    "                    maxIndex = j;\n",
    "                }\n",
    "            }\n",
    "            int temp = arr[maxIndex];\n",
    "            arr[maxIndex] = arr[i];\n",
    "            arr[i] = temp;\n",
    "        }\n",
    "    }\n",
    "\n",
    "    public static void printArray(int[] arr) {\n",
    "        for (int num : arr) {\n",
    "            System.out.print(num + \" \");\n",
    "        }\n",
    "        System.out.println();\n",
    "    }\n",
    "\n",
    "    public static void main(String[] args) {\n",
    "        int[] arrayA = {29, 10, 14, 37, 13};\n",
    "        System.out.println(\"Original Array:\");\n",
    "        printArray(arrayA);\n",
    "        selectionSortDescending(arrayA);\n",
    "        System.out.println(\"Sorted in Descending Order:\");\n",
    "        printArray(arrayA);\n",
    "    }\n",
    "}\n",
    "SelectionSortDescending.main(null);"
   ]
  },
  {
   "cell_type": "code",
   "execution_count": null,
   "metadata": {
    "vscode": {
     "languageId": "java"
    }
   },
   "outputs": [
    {
     "name": "stdout",
     "output_type": "stream",
     "text": [
      "Original Array:\n",
      "1 2 5 4 3 6 7 8 9 10 \n",
      "Sorted in Ascending Order:\n",
      "1 2 3 4 5 6 7 8 9 10 \n"
     ]
    }
   ],
   "source": [
    "public class InsertionSortAscending {\n",
    "    public static void insertionSortAscending(int[] arr) {\n",
    "        int n = arr.length;\n",
    "        for (int i = 1; i < n; i++) {\n",
    "            int var = arr[i];\n",
    "            int j = i - 1;\n",
    "            while (k >= 0 && arr[j] > var) {\n",
    "                arr[k + 1] = arr[j];\n",
    "                k--;\n",
    "            }\n",
    "            arr[j + 1] = var;\n",
    "        }\n",
    "    }\n",
    "\n",
    "    public static void printArray(int[] arr) {\n",
    "        for (int num : arr) {\n",
    "            System.out.print(num + \" \");\n",
    "        }\n",
    "        System.out.println();\n",
    "    }\n",
    "\n",
    "    public static void main(String[] args) {\n",
    "        int[] arrayB = {1, 2, 5, 4, 3, 6, 7, 8, 9, 10};\n",
    "        System.out.println(\"Original Array:\");\n",
    "        printArray(arrayB);\n",
    "        insertionSortAscending(arrayB);\n",
    "        System.out.println(\"Sorted in Ascending Order:\");\n",
    "        printArray(arrayB);\n",
    "    }\n",
    "}\n",
    "InsertionSortAscending.main(null);"
   ]
  },
  {
   "cell_type": "code",
   "execution_count": 3,
   "metadata": {
    "vscode": {
     "languageId": "java"
    }
   },
   "outputs": [
    {
     "name": "stdout",
     "output_type": "stream",
     "text": [
      "\n",
      "Sorting array A:\n",
      "Selection Sort took 3313 nanoseconds.\n",
      "Insertion Sort took 6951 nanoseconds.\n",
      "\n",
      "Sorting array B:\n",
      "Selection Sort took 3457 nanoseconds.\n",
      "Insertion Sort took 2394 nanoseconds.\n"
     ]
    }
   ],
   "source": [
    "public class SortingTimeComparison {\n",
    "\n",
    "    public static void selectionSortDescending(int[] arr) {\n",
    "        int n = arr.length;\n",
    "        for (int i = 0; i < n - 1; i++) {\n",
    "            int maxIndex = i;\n",
    "            for (int j = i + 1; j < n; j++) {\n",
    "                if (arr[j] > arr[maxIndex]) {\n",
    "                    maxIndex = j;\n",
    "                }\n",
    "            }\n",
    "            int temp = arr[maxIndex];\n",
    "            arr[maxIndex] = arr[i];\n",
    "            arr[i] = temp;\n",
    "        }\n",
    "    }\n",
    "\n",
    "    public static void insertionSortAscending(int[] arr) {\n",
    "        int n = arr.length;\n",
    "        for (int i = 1; i < n; i++) {\n",
    "            int key = arr[i];\n",
    "            int j = i - 1;\n",
    "            while (j >= 0 && arr[j] > key) {\n",
    "                arr[j + 1] = arr[j];\n",
    "                j--;\n",
    "            }\n",
    "            arr[j + 1] = key;\n",
    "        }\n",
    "    }\n",
    "\n",
    "    public static void measureSortingTime(int[] arr, boolean isSelectionSort) {\n",
    "        int[] copy = arr.clone();\n",
    "        long startTime = System.nanoTime();\n",
    "        if (isSelectionSort) {\n",
    "            selectionSortDescending(copy);\n",
    "        } else {\n",
    "            insertionSortAscending(copy);\n",
    "        }\n",
    "        long endTime = System.nanoTime();\n",
    "        long duration = endTime - startTime;\n",
    "        System.out.println((isSelectionSort ? \"Selection Sort\" : \"Insertion Sort\")\n",
    "            + \" took \" + duration + \" nanoseconds.\");\n",
    "    }\n",
    "\n",
    "    public static void main(String[] args) {\n",
    "        int[] arrayA = {29, 10, 14, 37, 13};\n",
    "        int[] arrayB = {1, 2, 5, 4, 3, 6, 7, 8, 9, 10};\n",
    "\n",
    "        System.out.println(\"\\nSorting array A:\");\n",
    "        measureSortingTime(arrayA, true);  // Selection Sort\n",
    "        measureSortingTime(arrayA, false); // Insertion Sort\n",
    "\n",
    "        System.out.println(\"\\nSorting array B:\");\n",
    "        measureSortingTime(arrayB, true);  // Selection Sort\n",
    "        measureSortingTime(arrayB, false); // Insertion Sort\n",
    "    }\n",
    "}\n",
    "SortingTimeComparison.main(null);"
   ]
  },
  {
   "cell_type": "markdown",
   "metadata": {},
   "source": [
    "1. Which algorithm performed better for Array A? Why?\n",
    "→ Insertion Sort was faster for Array A because it's more efficient on small arrays, especially when they are partially sorted.\n",
    "\n",
    "2. Which algorithm performed better for Array B? Why?\n",
    "→ Insertion Sort again, because Array B is already nearly sorted, and Insertion Sort is adaptive — it performs very well on nearly sorted data.\n",
    "\n",
    "3. When is it best to use each sorting algorithm?\n",
    "\n",
    "Use Insertion Sort when the dataset is small or nearly sorted.\n",
    "\n",
    "Use Selection Sort when data movement is costly (e.g. writing to memory), as it minimizes swaps.\n",
    "\n"
   ]
  }
 ],
 "metadata": {
  "kernelspec": {
   "display_name": "Java",
   "language": "java",
   "name": "java"
  },
  "language_info": {
   "codemirror_mode": "java",
   "file_extension": ".jshell",
   "mimetype": "text/x-java-source",
   "name": "Java",
   "pygments_lexer": "java",
   "version": "17.0.14+7-Ubuntu-122.04.1"
  }
 },
 "nbformat": 4,
 "nbformat_minor": 2
}
